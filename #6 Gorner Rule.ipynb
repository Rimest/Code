{
 "cells": [
  {
   "cell_type": "code",
   "execution_count": 1,
   "metadata": {},
   "outputs": [],
   "source": [
    "from random import randint\n",
    "import matplotlib.pyplot as plt\n",
    "import time\n",
    "import numpy as np"
   ]
  },
  {
   "cell_type": "code",
   "execution_count": 53,
   "metadata": {},
   "outputs": [],
   "source": [
    "def Gorner_Rule(a, x):\n",
    "    y = 0\n",
    "    for coeff in reversed(a):\n",
    "        y = coeff + x * y\n",
    "    return y\n",
    "        \n",
    "def Polynom_Calc(a, x):\n",
    "    y = 0\n",
    "    for i in range(len(a)):\n",
    "        y += a[i] * (x ** i)\n",
    "    return y"
   ]
  },
  {
   "cell_type": "code",
   "execution_count": 73,
   "metadata": {},
   "outputs": [
    {
     "name": "stdout",
     "output_type": "stream",
     "text": [
      "--- 8.613938570022583 seconds ---\n"
     ]
    }
   ],
   "source": [
    "N = 5000\n",
    "x = 1\n",
    "t1 = []\n",
    "t2 = []\n",
    "tt = time.time()\n",
    "for n in range(1, N + 1):\n",
    "    \n",
    "    array = [1] * n\n",
    "    start_time = time.time()\n",
    "    Gorner_Rule(array, 0)\n",
    "    time_1 = time.time() - start_time\n",
    "    \n",
    "    start_time = time.time()\n",
    "    Polynom_Calc(array, 0)\n",
    "    time_2 = time.time() - start_time\n",
    "    \n",
    "    t1.append(time_1)\n",
    "    t2.append(time_2)\n",
    "\n",
    "print(\"--- %s seconds ---\" % (time.time() - tt))"
   ]
  },
  {
   "cell_type": "code",
   "execution_count": 76,
   "metadata": {},
   "outputs": [
    {
     "data": {
      "text/plain": [
       "[<matplotlib.lines.Line2D at 0x1c51649bef0>]"
      ]
     },
     "execution_count": 76,
     "metadata": {},
     "output_type": "execute_result"
    },
    {
     "data": {
      "image/png": "[encoded data removed]",
      "text/plain": [
       "<Figure size 432x288 with 1 Axes>"
      ]
     },
     "metadata": {
      "needs_background": "light"
     },
     "output_type": "display_data"
    }
   ],
   "source": [
    "plt.plot(range(1, N + 1), t1, 'o')\n",
    "plt.plot(range(1, N + 1), t2, 'o')"
   ]
  },
  {
   "cell_type": "code",
   "execution_count": null,
   "metadata": {},
   "outputs": [],
   "source": []
  }
 ],
 "metadata": {
  "kernelspec": {
   "display_name": "Python 3",
   "language": "python",
   "name": "python3"
  },
  "language_info": {
   "codemirror_mode": {
    "name": "ipython",
    "version": 3
   },
   "file_extension": ".py",
   "mimetype": "text/x-python",
   "name": "python",
   "nbconvert_exporter": "python",
   "pygments_lexer": "ipython3",
   "version": "3.7.0"
  }
 },
 "nbformat": 4,
 "nbformat_minor": 2
}
