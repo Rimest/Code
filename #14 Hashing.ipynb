{
 "cells": [
  {
   "cell_type": "code",
   "execution_count": 5,
   "metadata": {},
   "outputs": [],
   "source": [
    "from random import randint\n",
    "import matplotlib.pyplot as plt\n",
    "import time\n",
    "import math\n",
    "import numpy as np\n",
    "import sys"
   ]
  },
  {
   "cell_type": "markdown",
   "metadata": {},
   "source": [
    "# 1. Direct Addressing"
   ]
  },
  {
   "cell_type": "code",
   "execution_count": 2,
   "metadata": {},
   "outputs": [],
   "source": [
    "class DirectAddressingTable:\n",
    "    \n",
    "    def __init__(self, length):\n",
    "        self.length = length\n",
    "        self.table = [None] * (length + 1)\n",
    "        \n",
    "    def add(self, k, v):\n",
    "        self.table[k] = v\n",
    "        \n",
    "    def search(self, k):\n",
    "        return self.table[k] or 'not found'\n",
    "    \n",
    "    def delete(self, k):\n",
    "        self.table[k] = None"
   ]
  },
  {
   "cell_type": "markdown",
   "metadata": {},
   "source": [
    "### Phone Book problem"
   ]
  },
  {
   "cell_type": "code",
   "execution_count": 69,
   "metadata": {},
   "outputs": [],
   "source": [
    "t = DirectAddressingTable(10 ** 7)"
   ]
  },
  {
   "cell_type": "code",
   "execution_count": 47,
   "metadata": {},
   "outputs": [
    {
     "name": "stdout",
     "output_type": "stream",
     "text": [
      "8\n",
      "find 3839442\n",
      "add 123456 me\n",
      "add 0 granny\n",
      "find 0\n",
      "find 123456\n",
      "del 0\n",
      "del 0\n",
      "find 0\n"
     ]
    }
   ],
   "source": [
    "queries = [input() for i in range(int(input()))]"
   ]
  },
  {
   "cell_type": "code",
   "execution_count": 66,
   "metadata": {},
   "outputs": [
    {
     "data": {
      "text/plain": [
       "['find 3839442',\n",
       " 'add 123456 me',\n",
       " 'add 0 granny',\n",
       " 'find 0',\n",
       " 'find 123456',\n",
       " 'del 0',\n",
       " 'del 0',\n",
       " 'find 0']"
      ]
     },
     "execution_count": 66,
     "metadata": {},
     "output_type": "execute_result"
    }
   ],
   "source": [
    "queries"
   ]
  },
  {
   "cell_type": "code",
   "execution_count": 65,
   "metadata": {},
   "outputs": [
    {
     "name": "stdout",
     "output_type": "stream",
     "text": [
      "not found\n",
      "granny\n",
      "me\n",
      "not found\n"
     ]
    }
   ],
   "source": [
    "def solution1(queries, t):  \n",
    "    for q in queries:\n",
    "        qq = q.split()\n",
    "        if qq[0] == 'add':\n",
    "            t.add(int(qq[1]), qq[2])\n",
    "        elif qq[0] == 'find':\n",
    "            print(t.search(int(qq[1])))\n",
    "        else:\n",
    "            t.delete(int(qq[1]))\n",
    "\n",
    "solution1(queries, t)"
   ]
  },
  {
   "cell_type": "markdown",
   "metadata": {},
   "source": [
    "# 2. Hashing"
   ]
  },
  {
   "cell_type": "markdown",
   "metadata": {},
   "source": [
    "## 2.1. Hashing Chaining"
   ]
  },
  {
   "cell_type": "code",
   "execution_count": 3,
   "metadata": {},
   "outputs": [],
   "source": [
    "## Single Linked List Implementation\n",
    "\n",
    "class Node:\n",
    "    def __init__(self, k):\n",
    "        self.next = None\n",
    "        self.key = k\n",
    "        \n",
    "class SingleLinkedList:\n",
    "    def __init__(self):\n",
    "        self.length = 0\n",
    "        self.head = Node(None)\n",
    "        \n",
    "        \n",
    "    def __str__(self):\n",
    "        if self.head.key is not None:\n",
    "            t = []\n",
    "            x = self.head\n",
    "            for _ in range(self.length):\n",
    "                t.append(x.key)\n",
    "                x = x.next\n",
    "            return f'{t}' \n",
    "        else:\n",
    "            return '[]'\n",
    "        \n",
    "    def add(self, k):\n",
    "        x = Node(k)\n",
    "        x.next = self.head\n",
    "        self.head = x\n",
    "        self.length += 1\n",
    "    \n",
    "    def search(self, k):\n",
    "        if self.head.key is not None:\n",
    "            x = self.head\n",
    "            for _ in range(self.length):\n",
    "                if x.key != k:\n",
    "                    x = x.next\n",
    "                else:\n",
    "                    return x\n",
    "            return False\n",
    "        else:\n",
    "            return False\n",
    "        \n",
    "    def delete(self, k):\n",
    "        if self.head.key is not None:\n",
    "            if self.head.key == k:\n",
    "                self.head = self.head.next\n",
    "                self.length -= 1\n",
    "                return\n",
    "            x = self.head\n",
    "            for _ in range(self.length):\n",
    "                if x.next.key == k:\n",
    "                    x.next = x.next.next\n",
    "                    self.length -= 1\n",
    "                    return\n",
    "                else:\n",
    "                    x = x.next\n",
    "            return f'{k} is not in list'\n",
    "        else:\n",
    "            return 'List is empty'"
   ]
  },
  {
   "cell_type": "code",
   "execution_count": 4,
   "metadata": {},
   "outputs": [],
   "source": [
    "class HashTable_Chaining:\n",
    "    \n",
    "    def __init__(self, h, m):\n",
    "        self.h = h\n",
    "        self.m = m\n",
    "        self.T = [0] * m\n",
    "        \n",
    "    def __str__(self):\n",
    "        return f'{self.T}'\n",
    "    \n",
    "    def add(self, k):\n",
    "        if self.T[h(k, self.m)] == 0:\n",
    "            self.T[h(k, self.m)] = SingleLinkedList()\n",
    "        if not self.T[h(k, self.m)].search(k):\n",
    "            self.T[h(k, self.m)].add(k)\n",
    "        \n",
    "    def delete(self, k):\n",
    "        if self.T[h(k, self.m)] == 0:\n",
    "            self.T[h(k, self.m)] = SingleLinkedList()\n",
    "        if self.T[h(k, self.m)].search(k):\n",
    "            self.T[h(k, self.m)].delete(k)\n",
    "            \n",
    "    def search(self, k):\n",
    "        if self.T[h(k, self.m)] == 0:\n",
    "            self.T[h(k, self.m)] = SingleLinkedList()\n",
    "            \n",
    "        if self.T[h(k, self.m)].search(k):\n",
    "            return True\n",
    "        else:\n",
    "            return False"
   ]
  },
  {
   "cell_type": "markdown",
   "metadata": {},
   "source": [
    "### Chaining Hashing Problem"
   ]
  },
  {
   "cell_type": "code",
   "execution_count": 548,
   "metadata": {},
   "outputs": [],
   "source": [
    "# Hash function\n",
    "def h(S, m):\n",
    "    x = 263\n",
    "    p = 1_000_000_007\n",
    "    ns = len(S)\n",
    "    \n",
    "    s = ord(S[-1])\n",
    "    for i in S[-2::-1]:\n",
    "        s = s * x + ord(i)\n",
    "    return (s % p) % m"
   ]
  },
  {
   "cell_type": "code",
   "execution_count": 585,
   "metadata": {},
   "outputs": [
    {
     "name": "stdout",
     "output_type": "stream",
     "text": [
      "m = 5\n"
     ]
    }
   ],
   "source": [
    "t = HashTable_Chaining(h, int(input('m = ')))"
   ]
  },
  {
   "cell_type": "code",
   "execution_count": 582,
   "metadata": {},
   "outputs": [
    {
     "name": "stdout",
     "output_type": "stream",
     "text": [
      "8\n",
      "add test\n",
      "add test\n",
      "find test\n",
      "del test\n",
      "find test\n",
      "find Test\n",
      "add Test\n",
      "find Test\n"
     ]
    }
   ],
   "source": [
    "queries = [input() for i in range(int(input()))]"
   ]
  },
  {
   "cell_type": "code",
   "execution_count": null,
   "metadata": {},
   "outputs": [],
   "source": [
    "def solution2(queries, t):  \n",
    "    for q in queries:\n",
    "        qq = q.split()\n",
    "        if qq[0] == 'add':\n",
    "            t.add(qq[1])\n",
    "        elif qq[0] == 'find':\n",
    "            print('yes' if t.search(qq[1]) else 'no')\n",
    "        elif qq[0] == 'del':\n",
    "            t.delete(qq[1])\n",
    "        else:\n",
    "            if t.T[int(qq[1])] != 0:\n",
    "                s = []\n",
    "                x = t.T[int(qq[1])].head\n",
    "                for _ in range(t.T[int(qq[1])].length):\n",
    "                    s.append(x.key)\n",
    "                    x = x.next\n",
    "                print(' '.join(s))\n",
    "            else:\n",
    "                print('')\n",
    "\n",
    "solution2(queries, t)"
   ]
  },
  {
   "cell_type": "markdown",
   "metadata": {},
   "source": [
    "## 2.2. Universal Hashing"
   ]
  },
  {
   "cell_type": "code",
   "execution_count": 1,
   "metadata": {},
   "outputs": [],
   "source": [
    "class UniversalHashClass:\n",
    "    \n",
    "    def __init__(self, N, prime):\n",
    "        self.N = N\n",
    "        self.prime = prime\n",
    "        \n",
    "    @staticmethod    \n",
    "    def getprime(M):\n",
    "        j = 0\n",
    "        n = 0\n",
    "        while n != math.floor((M + j) ** 0.5) - 1:\n",
    "            for i in range(2, math.floor((M + j) ** 0.5) + 1):\n",
    "                if (M + j) % i == 0:\n",
    "                    j += 1\n",
    "                    n = 0\n",
    "                    break\n",
    "                else:\n",
    "                    n += 1\n",
    "        return M + j        \n",
    "        \n",
    "    def func(self, a = None, b = None):\n",
    "        p = self.prime\n",
    "        a = randint(1, p - 1) if a is None else a\n",
    "        b = randint(0, p - 1) if b is None else b\n",
    "        return lambda k: ((a * k + b) % p) % self.N, a, b"
   ]
  },
  {
   "cell_type": "markdown",
   "metadata": {},
   "source": [
    "## 2.3. Perfect Hashing"
   ]
  },
  {
   "cell_type": "code",
   "execution_count": 2,
   "metadata": {},
   "outputs": [],
   "source": [
    "class PerfectHashing:\n",
    "    \n",
    "    def __init__(self, Keys, N, prime):\n",
    "        \n",
    "        #Main variables:\n",
    "        self.Keys = Keys\n",
    "        self.N = N\n",
    "        self.Table = [None] * N\n",
    "        self.prime = UniversalHashClass.getprime(prime)\n",
    "        \n",
    "        #Secondary variables:\n",
    "        self.coeff1 = 2\n",
    "        self.chains = []\n",
    "        self.a = 0\n",
    "        self.b = 0\n",
    "    \n",
    "    def __alloc2Dlist(self, N):\n",
    "        l = []\n",
    "        for i in range(N):\n",
    "            l.append([])\n",
    "            l[i].append(0)\n",
    "        return l\n",
    "    \n",
    "    def BuildTable(self):\n",
    "        \n",
    "        #First step:\n",
    "        ####################################################################\n",
    "        cl = UniversalHashClass(self.N, self.prime)\n",
    "        num1 = 0\n",
    "        while True:\n",
    "            num1 += 1\n",
    "            H, self.a, self.b = cl.func()\n",
    "            l = self.__alloc2Dlist(self.N)\n",
    "            self.chains = l\n",
    "            for k in self.Keys:\n",
    "                v = H(k)\n",
    "                self.chains[v][0] += 1\n",
    "                self.chains[v].append(k)\n",
    "                \n",
    "            if sum([t[0] ** 2 for t in self.chains]) < self.coeff1 * N:\n",
    "                break\n",
    "        del l\n",
    "        print(f'{num1} passes to find first Hash function')\n",
    "        print('')\n",
    "        ####################################################################\n",
    "        \n",
    "        \n",
    "        #Second step:\n",
    "        ####################################################################\n",
    "        T = self.Table\n",
    "        for i in range(self.N):\n",
    "            \n",
    "            m = self.chains[i][0] ** 2\n",
    "            if m == 0:\n",
    "                continue\n",
    "            elif m == 1:\n",
    "                T[i] = [0,0,0], [None] * m\n",
    "                T[i][1][0] = self.chains[i][1]\n",
    "                T[i][0][0] = m\n",
    "                T[i][0][1] = 0\n",
    "                T[i][0][2] = 0\n",
    "                continue\n",
    "        \n",
    "            cl = UniversalHashClass(m, self.prime)\n",
    "            num2 = 0\n",
    "            while True:\n",
    "                num2 += 1\n",
    "                j = 0\n",
    "                h, a, b = cl.func()\n",
    "                temp2 = [0] * m\n",
    "                T[i] = [0,0,0], [None] * m\n",
    "                for k in self.chains[i][1:]:\n",
    "                    v = h(k)\n",
    "                    T[i][1][v] = k\n",
    "                    \n",
    "                    #Collision checking:\n",
    "                    #########################\n",
    "                    if temp2[v] < 1:\n",
    "                        j += 1\n",
    "                        temp2[v] += 1\n",
    "                    else:\n",
    "                        break\n",
    "                    #########################\n",
    "                    \n",
    "                if j == self.chains[i][0]:\n",
    "                    T[i][0][0] = m\n",
    "                    T[i][0][1] = a\n",
    "                    T[i][0][2] = b\n",
    "                    break\n",
    "            print(f'{num2} passes to find hash function for {i}th slot')\n",
    "        ####################################################################\n",
    "    \n",
    "    def search(self, k):\n",
    "        H, a1, b1 = UniversalHashClass(self.N, self.prime).func(self.a, self.b)\n",
    "        if self.Table[H(k)] is not None:\n",
    "            if self.Table[H(k)][0][0] == 1:\n",
    "                return (True, H, lambda x: 0) if self.Table[H(k)][1][0] == k else (False,)\n",
    "                #return (True, (a1, b1), (0, 0)) if self.Table[H(k)][1][0] == k else (False,)\n",
    "            else:\n",
    "                data = self.Table[H(k)][0]\n",
    "                h, a2, b2 = UniversalHashClass(data[0], self.prime).func(data[1], data[2])\n",
    "                return (True, H, h) if self.Table[H(k)][1][h(k)] == k else (False,)\n",
    "        else:\n",
    "            return False"
   ]
  },
  {
   "cell_type": "code",
   "execution_count": 3,
   "metadata": {},
   "outputs": [],
   "source": [
    "K = [10, 22, 37, 40, 52, 60, 70, 72, 75]"
   ]
  },
  {
   "cell_type": "code",
   "execution_count": 6,
   "metadata": {},
   "outputs": [
    {
     "name": "stdout",
     "output_type": "stream",
     "text": [
      "1 passes to find first Hash function\n",
      "\n",
      "1 passes to find hash function for 0th slot\n",
      "1 passes to find hash function for 5th slot\n",
      "2 passes to find hash function for 6th slot\n",
      "1 passes to find hash function for 7th slot\n"
     ]
    }
   ],
   "source": [
    "N = len(K)\n",
    "prime = 101\n",
    "t = PerfectHashing(K, N, prime)\n",
    "t.BuildTable()"
   ]
  },
  {
   "cell_type": "code",
   "execution_count": 7,
   "metadata": {},
   "outputs": [
    {
     "data": {
      "text/plain": [
       "[([4, 12, 86], [None, 37, None, 60]),\n",
       " None,\n",
       " None,\n",
       " None,\n",
       " None,\n",
       " ([4, 5, 51], [52, None, 75, None]),\n",
       " ([4, 50, 28], [40, 22, None, None]),\n",
       " ([4, 16, 29], [10, None, 70, None]),\n",
       " ([1, 0, 0], [72])]"
      ]
     },
     "execution_count": 7,
     "metadata": {},
     "output_type": "execute_result"
    }
   ],
   "source": [
    "t.Table"
   ]
  },
  {
   "cell_type": "markdown",
   "metadata": {},
   "source": [
    "### Searching Patten Text Problem (Rabin - Karp Algorithm)"
   ]
  },
  {
   "cell_type": "code",
   "execution_count": 165,
   "metadata": {},
   "outputs": [],
   "source": [
    "class SearchInText:\n",
    "    \n",
    "    def __init__(self, Text):\n",
    "        self.Text = [ord(t) for t in Text]\n",
    "        self.prime = UniversalHashClass.getprime(10 ** randint(6, 9)//2)\n",
    "        self.x = randint(1, self.prime - 1)\n",
    "        \n",
    "    def _hash(self, text):\n",
    "        h = 0\n",
    "        for i in range(len(text) - 1, -1, -1):\n",
    "            h = (h * self.x + text[i]) % self.prime\n",
    "        return h\n",
    "    \n",
    "    def RabinKarpAlg(self, Pattern):\n",
    "        pattern = [ord(p) for p in Pattern]\n",
    "        l_p = len(Pattern)\n",
    "        l_t = len(self.Text)\n",
    "        h_p = self._hash(pattern)\n",
    "        H = [0] * (l_t - l_p + 1)\n",
    "        H[-1] = self._hash(self.Text[-l_p:])\n",
    "        xp = self.x ** (l_p - 1) % self.prime\n",
    "        for i in range(1, l_t - l_p + 1):\n",
    "            H[- i - 1] = ((H[- i] -  self.Text[- i] * xp) * self.x + self.Text[- i - l_p]) % self.prime\n",
    "        ans = []\n",
    "        for i in range(len(H)):\n",
    "            if H[i] == h_p and self.Text[i] == pattern[0]:\n",
    "                if self.Text[i: i + l_p] == pattern:\n",
    "                    ans.append(i)\n",
    "                    \n",
    "        print('Appearance Indexes:')\n",
    "        return ans"
   ]
  },
  {
   "cell_type": "code",
   "execution_count": 172,
   "metadata": {},
   "outputs": [],
   "source": [
    "Text = 'Starting in the 1990s, Trump was a guest about 24 times on the nationally syndicated Howard Stern Show'\n",
    "s = SearchInText(Text)"
   ]
  },
  {
   "cell_type": "code",
   "execution_count": 181,
   "metadata": {},
   "outputs": [
    {
     "name": "stdout",
     "output_type": "stream",
     "text": [
      "Appearance Indexes:\n"
     ]
    },
    {
     "data": {
      "text/plain": [
       "[23]"
      ]
     },
     "execution_count": 181,
     "metadata": {},
     "output_type": "execute_result"
    }
   ],
   "source": [
    "inds = s.RabinKarpAlg('Trump')\n",
    "inds"
   ]
  },
  {
   "cell_type": "code",
   "execution_count": 182,
   "metadata": {},
   "outputs": [
    {
     "data": {
      "text/plain": [
       "'Trump was a guest about 24 times on the nationally syndicated Howard Stern Show'"
      ]
     },
     "execution_count": 182,
     "metadata": {},
     "output_type": "execute_result"
    }
   ],
   "source": [
    "Text[inds[0]:]"
   ]
  }
 ],
 "metadata": {
  "kernelspec": {
   "display_name": "Python 3",
   "language": "python",
   "name": "python3"
  },
  "language_info": {
   "codemirror_mode": {
    "name": "ipython",
    "version": 3
   },
   "file_extension": ".py",
   "mimetype": "text/x-python",
   "name": "python",
   "nbconvert_exporter": "python",
   "pygments_lexer": "ipython3",
   "version": "3.7.0"
  }
 },
 "nbformat": 4,
 "nbformat_minor": 2
}
