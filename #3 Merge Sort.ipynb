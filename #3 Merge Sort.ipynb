{
 "cells": [
  {
   "cell_type": "code",
   "execution_count": 19,
   "metadata": {},
   "outputs": [],
   "source": [
    "from random import randint\n",
    "import matplotlib.pyplot as plt\n",
    "import time\n",
    "import numpy as np"
   ]
  },
  {
   "cell_type": "code",
   "execution_count": 1,
   "metadata": {},
   "outputs": [],
   "source": [
    "def Merge(A, p, q, r):\n",
    "    \n",
    "    #global inv\n",
    "    \n",
    "    L = A[p:q + 1]\n",
    "    R = A[q + 1:r + 1]\n",
    "    \n",
    "    i = 0\n",
    "    j = 0\n",
    "    for k in range(p, r + 1):\n",
    "        if L[i] <= R[j]:\n",
    "            A[k] = L[i]\n",
    "            i += 1\n",
    "            if i >= len(L):\n",
    "                A[k + 1: r + 1] = R[j:]\n",
    "                break\n",
    "        else:\n",
    "            A[k] = R[j]\n",
    "            inv += j\n",
    "            j += 1\n",
    "            if j >= len(R):\n",
    "                #inv += len(R) * (len(L) - i)\n",
    "                A[k + 1: r + 1] = L[i:]\n",
    "                break\n",
    "\n",
    "def Merge_Sort(A, p, r):\n",
    "    inv = 0\n",
    "    if p < r:\n",
    "        q = (p + r) // 2\n",
    "        Merge_Sort(A, p, q)\n",
    "        Merge_Sort(A, q + 1, r)\n",
    "        Merge(A, p, q, r)"
   ]
  },
  {
   "cell_type": "code",
   "execution_count": 369,
   "metadata": {},
   "outputs": [
    {
     "data": {
      "text/plain": [
       "[5, 4, 3, 2, 1]"
      ]
     },
     "execution_count": 369,
     "metadata": {},
     "output_type": "execute_result"
    }
   ],
   "source": [
    "a = [2, 3, 8, 6, 1]\n",
    "a = list(range(5, 0, -1))\n",
    "a"
   ]
  },
  {
   "cell_type": "code",
   "execution_count": 370,
   "metadata": {},
   "outputs": [],
   "source": [
    "inv = 1\n",
    "Merge_Sort(a, 0, 4)"
   ]
  },
  {
   "cell_type": "code",
   "execution_count": 371,
   "metadata": {},
   "outputs": [
    {
     "data": {
      "text/plain": [
       "[1, 2, 3, 4, 5]"
      ]
     },
     "execution_count": 371,
     "metadata": {},
     "output_type": "execute_result"
    }
   ],
   "source": [
    "a"
   ]
  },
  {
   "cell_type": "code",
   "execution_count": 372,
   "metadata": {},
   "outputs": [
    {
     "data": {
      "text/plain": [
       "12"
      ]
     },
     "execution_count": 372,
     "metadata": {},
     "output_type": "execute_result"
    }
   ],
   "source": [
    "inv"
   ]
  },
  {
   "cell_type": "code",
   "execution_count": 329,
   "metadata": {},
   "outputs": [
    {
     "data": {
      "text/plain": [
       "[9, 8, 7, 6, 5, 4, 3, 2, 1, 0]"
      ]
     },
     "execution_count": 329,
     "metadata": {},
     "output_type": "execute_result"
    }
   ],
   "source": [
    "b = list(reversed(range(10)))\n",
    "b"
   ]
  },
  {
   "cell_type": "code",
   "execution_count": 328,
   "metadata": {},
   "outputs": [
    {
     "data": {
      "text/plain": [
       "[4, 3, 2, 1, 0, 9, 8, 7, 6, 5]"
      ]
     },
     "execution_count": 328,
     "metadata": {},
     "output_type": "execute_result"
    }
   ],
   "source": [
    "\n",
    "Merge(b, 0, 9//2,9)\n",
    "b"
   ]
  },
  {
   "cell_type": "code",
   "execution_count": null,
   "metadata": {},
   "outputs": [],
   "source": []
  },
  {
   "cell_type": "code",
   "execution_count": 14,
   "metadata": {},
   "outputs": [
    {
     "name": "stdout",
     "output_type": "stream",
     "text": [
      "--- 12.426805973052979 seconds ---\n"
     ]
    }
   ],
   "source": [
    "N = 2000\n",
    "t = []\n",
    "t1 = time.time()\n",
    "for n in range(1, N + 1):\n",
    "    array = np.random.randint(-10, 10, size = n)\n",
    "    #array = list(reversed(range(n)))\n",
    "    start_time = time.time()\n",
    "    Merge_Sort(array, 0, n - 1)\n",
    "    time_ = time.time() - start_time\n",
    "    t.append(time_)\n",
    "\n",
    "print(\"--- %s seconds ---\" % (time.time() - t1))"
   ]
  },
  {
   "cell_type": "code",
   "execution_count": 15,
   "metadata": {},
   "outputs": [
    {
     "data": {
      "text/plain": [
       "[<matplotlib.lines.Line2D at 0x201e86ff7b8>]"
      ]
     },
     "execution_count": 15,
     "metadata": {},
     "output_type": "execute_result"
    },
    {
     "data": {
      "image/png": "[encoded data removed]",
      "text/plain": [
       "<Figure size 432x288 with 1 Axes>"
      ]
     },
     "metadata": {
      "needs_background": "light"
     },
     "output_type": "display_data"
    }
   ],
   "source": [
    "plt.plot(range(1, N + 1), t)"
   ]
  },
  {
   "cell_type": "code",
   "execution_count": 7,
   "metadata": {},
   "outputs": [
    {
     "name": "stdout",
     "output_type": "stream",
     "text": [
      "--- 10.597640752792358 seconds ---\n"
     ]
    }
   ],
   "source": [
    "n = 2000000\n",
    "start_time = time.time()\n",
    "Merge_Sort(list(reversed(range(n))), 0, n - 1)\n",
    "time_ = time.time() - start_time\n",
    "print(\"--- %s seconds ---\" % (time_))"
   ]
  },
  {
   "cell_type": "code",
   "execution_count": null,
   "metadata": {},
   "outputs": [],
   "source": []
  }
 ],
 "metadata": {
  "kernelspec": {
   "display_name": "Python 3",
   "language": "python",
   "name": "python3"
  },
  "language_info": {
   "codemirror_mode": {
    "name": "ipython",
    "version": 3
   },
   "file_extension": ".py",
   "mimetype": "text/x-python",
   "name": "python",
   "nbconvert_exporter": "python",
   "pygments_lexer": "ipython3",
   "version": "3.7.0"
  }
 },
 "nbformat": 4,
 "nbformat_minor": 2
}
