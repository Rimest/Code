{
 "cells": [
  {
   "cell_type": "code",
   "execution_count": 2,
   "metadata": {},
   "outputs": [],
   "source": [
    "from random import randint\n",
    "import matplotlib.pyplot as plt\n",
    "import time\n",
    "import math as mth\n",
    "import numpy as np"
   ]
  },
  {
   "cell_type": "code",
   "execution_count": 1,
   "metadata": {},
   "outputs": [
    {
     "data": {
      "text/plain": [
       "'\\ndef Select(A, p, r, i):\\n    \\n    if r == p:\\n        return A[0]\\n    \\n    n = r - p + 1\\n    k = n // 5\\n    med = [0] * mth.ceil(n / 5)\\n    for j in range(k):\\n        Insertion_Sort(A, j * 5 , (j + 1) * 5 - 1)\\n        med[i] = Med(A,  j * 5 , (j + 1) * 5 - 1)\\n    Insertion_Sort(A, r - (n % 5) + 1, r)\\n    med[-1] = Med(A, r - (n % 5) + 1, r)\\n    \\n    x = Select(med, 0, len(med) - 1, (len(med) + 1) // 2 - 1)\\n    q = Partition(A, p, r, x)\\n    k = q - p + 1\\n    if i == k:\\n        return x\\n    elif i < k:\\n        return Select(A, p, q - 1, i)\\n    else:\\n        return Select(A, q + 1, r, i - k)\\n\\n'"
      ]
     },
     "execution_count": 1,
     "metadata": {},
     "output_type": "execute_result"
    }
   ],
   "source": [
    "def Partition(A, p, r, x = 'x', rand = False):\n",
    "    if rand == True:\n",
    "        ind = randint(p, r)\n",
    "        A[ind], A[r] = A[r], A[ind]\n",
    "        \n",
    "    if x != 'x':\n",
    "        for i in range(p, r + 1):\n",
    "            if A[i] == x:\n",
    "                A[i], A[r] = A[r], A[i]\n",
    "                \n",
    "    x = A[r]            \n",
    "    i = p - 1\n",
    "    for j in range(p, r):\n",
    "        if A[j] <= x:\n",
    "            i += 1\n",
    "            A[i], A[j] = A[j], A[i]\n",
    "    A[r], A[i + 1] = A[i + 1], A[r]\n",
    "    return i + 1\n",
    "\n",
    "def Randomized_Select(A, p, r, i):\n",
    "    if p == r:\n",
    "        return A[p]\n",
    "    q = Partition(A, p, r, rand = True)\n",
    "    \n",
    "    k = q - p + 1\n",
    "    if i == k:\n",
    "        return A[q]\n",
    "    elif i < k:\n",
    "        return Randomized_Select(A, p, q - 1, i)\n",
    "    else:\n",
    "        return Randomized_Select(A, q + 1, r, i - k)\n",
    "    \n",
    "def Insertion_Sort(A, p, r):\n",
    "    if p < r:\n",
    "        for i in range(p + 1, r + 1):\n",
    "            for j in range(i):\n",
    "                if A[i] <= A[j]:\n",
    "                    A[i], A[j] = A[j], A[i]\n",
    "    \n",
    "    \n",
    "def Med(A, p, r):\n",
    "    if p < r:\n",
    "        return A[(r - p + 2) // 2 - 1]\n",
    "'''\n",
    "def Select(A, p, r, i):\n",
    "    \n",
    "    if r == p:\n",
    "        return A[0]\n",
    "    \n",
    "    n = r - p + 1\n",
    "    k = n // 5\n",
    "    med = [0] * mth.ceil(n / 5)\n",
    "    for j in range(k):\n",
    "        Insertion_Sort(A, j * 5 , (j + 1) * 5 - 1)\n",
    "        med[i] = Med(A,  j * 5 , (j + 1) * 5 - 1)\n",
    "    Insertion_Sort(A, r - (n % 5) + 1, r)\n",
    "    med[-1] = Med(A, r - (n % 5) + 1, r)\n",
    "    \n",
    "    x = Select(med, 0, len(med) - 1, (len(med) + 1) // 2 - 1)\n",
    "    q = Partition(A, p, r, x)\n",
    "    k = q - p + 1\n",
    "    if i == k:\n",
    "        return x\n",
    "    elif i < k:\n",
    "        return Select(A, p, q - 1, i)\n",
    "    else:\n",
    "        return Select(A, q + 1, r, i - k)\n",
    "\n",
    "'''"
   ]
  },
  {
   "cell_type": "code",
   "execution_count": 175,
   "metadata": {},
   "outputs": [],
   "source": [
    "a = [3, 4, 1, 8, 12, 5, 9, 2, 7, 6, 0, -9]"
   ]
  },
  {
   "cell_type": "code",
   "execution_count": 176,
   "metadata": {},
   "outputs": [
    {
     "data": {
      "text/plain": [
       "[-9, 0, 1, 2, 3, 4, 5, 6, 7, 8, 9, 12]"
      ]
     },
     "execution_count": 176,
     "metadata": {},
     "output_type": "execute_result"
    }
   ],
   "source": [
    "sorted(a)"
   ]
  },
  {
   "cell_type": "code",
   "execution_count": 179,
   "metadata": {},
   "outputs": [
    {
     "data": {
      "text/plain": [
       "0"
      ]
     },
     "execution_count": 179,
     "metadata": {},
     "output_type": "execute_result"
    }
   ],
   "source": [
    "Randomized_Select(a, 0, len(a) - 1, 2)"
   ]
  },
  {
   "cell_type": "code",
   "execution_count": 181,
   "metadata": {},
   "outputs": [
    {
     "data": {
      "text/plain": [
       "[-9, 0, 1, 2, 4, 3, 5, 6, 7, 8, 9, 12]"
      ]
     },
     "execution_count": 181,
     "metadata": {},
     "output_type": "execute_result"
    }
   ],
   "source": [
    "a"
   ]
  },
  {
   "cell_type": "code",
   "execution_count": null,
   "metadata": {},
   "outputs": [],
   "source": []
  }
 ],
 "metadata": {
  "kernelspec": {
   "display_name": "Python 3",
   "language": "python",
   "name": "python3"
  },
  "language_info": {
   "codemirror_mode": {
    "name": "ipython",
    "version": 3
   },
   "file_extension": ".py",
   "mimetype": "text/x-python",
   "name": "python",
   "nbconvert_exporter": "python",
   "pygments_lexer": "ipython3",
   "version": "3.7.0"
  }
 },
 "nbformat": 4,
 "nbformat_minor": 2
}
