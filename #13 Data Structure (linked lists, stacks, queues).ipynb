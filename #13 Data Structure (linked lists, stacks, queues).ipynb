{
 "cells": [
  {
   "cell_type": "code",
   "execution_count": 661,
   "metadata": {},
   "outputs": [],
   "source": [
    "from random import randint\n",
    "import matplotlib.pyplot as plt\n",
    "import time\n",
    "import math as mth\n",
    "import numpy as np\n",
    "import sys"
   ]
  },
  {
   "cell_type": "markdown",
   "metadata": {},
   "source": [
    "# Linked - List implementation:"
   ]
  },
  {
   "cell_type": "code",
   "execution_count": 565,
   "metadata": {},
   "outputs": [],
   "source": [
    "class Node():\n",
    "    \n",
    "    def __init__(self, key):\n",
    "        self.key = key\n",
    "        self.prev = None\n",
    "        self.next = None\n",
    "        \n",
    "    def __str__(self):\n",
    "        return f'key = {self.key}'\n",
    "        \n",
    "class LinkedList():\n",
    "    \n",
    "    '''Functions: add_head(), add_tail(), add_head(), add_tail(), seacrh(key), delete(key), clear()\n",
    "    Attributes: .length, .head, .tail'''\n",
    "    \n",
    "    #Magic Methods\n",
    "    def __init__(self):\n",
    "        self.head = None\n",
    "        self.tail = None\n",
    "        self.length = 0\n",
    "    \n",
    "    def __str__(self):\n",
    "        if self.head is not None:\n",
    "            curr = self.head\n",
    "            out = []\n",
    "            for _ in range(self.length):\n",
    "                out.append(curr.key)\n",
    "                curr = curr.next\n",
    "            return str(out)\n",
    "        else:\n",
    "            return '[]'\n",
    "    \n",
    "    #Methods\n",
    "    def add_head(self, x):\n",
    "        self.length += 1\n",
    "        if self.head is None:\n",
    "            self.tail = x\n",
    "        else:\n",
    "            self.head.prev = x\n",
    "        x.next = self.head\n",
    "        self.head = x\n",
    "        x.prev = None\n",
    "        \n",
    "    def add_tail(self, x):\n",
    "        self.length += 1\n",
    "        if self.head is None:\n",
    "            self.head = x\n",
    "        else:\n",
    "            self.tail.next = x\n",
    "        x.prev = self.tail\n",
    "        self.tail = x\n",
    "        x.next = None\n",
    "        \n",
    "    def search(self, key):\n",
    "        x = self.head\n",
    "        for _ in range(self.length):\n",
    "            if x.key == key:\n",
    "                return x\n",
    "            x = x.next\n",
    "        \n",
    "    def delete(self, key):\n",
    "        x = self.search(key)\n",
    "        if x.prev is not None:\n",
    "            x.prev.next = x.next\n",
    "        else:\n",
    "            self.head = x.next\n",
    "        if x.next is not None:\n",
    "            x.next.prev = x.prev\n",
    "        self.length -= 1\n",
    "        \n",
    "    def del_head(self):\n",
    "        if self.length > 1:\n",
    "            self.length -= 1\n",
    "            x = self.head\n",
    "            self.head = x.next\n",
    "            x.next.prev = None\n",
    "            return x\n",
    "        elif self.length == 1:\n",
    "            x = self.head\n",
    "            self.__init__()\n",
    "            return x\n",
    "        else:\n",
    "            return 'List is empty'\n",
    "        \n",
    "    def del_tail(self):\n",
    "        if self.length > 1:\n",
    "            self.length -= 1\n",
    "            x = self.tail\n",
    "            self.tail = x.prev\n",
    "            x.prev.next = None\n",
    "            return x\n",
    "        elif self.length == 1:\n",
    "            x = self.tail\n",
    "            self.__init__()\n",
    "            return x\n",
    "        else:\n",
    "            return 'List is empty'\n",
    "        \n",
    "    def clear(self):\n",
    "        self.__init__()"
   ]
  },
  {
   "cell_type": "markdown",
   "metadata": {},
   "source": [
    "# 1. Python - list based Stack and Queue structure implementation"
   ]
  },
  {
   "cell_type": "markdown",
   "metadata": {},
   "source": [
    "## Stack:"
   ]
  },
  {
   "cell_type": "code",
   "execution_count": 566,
   "metadata": {},
   "outputs": [],
   "source": [
    "class Stack_PythonList():\n",
    "    \n",
    "    '''push(), pop(), empty(), min_val'''\n",
    "    \n",
    "    #Magic Methods\n",
    "    def __init__(self):\n",
    "        self.stack = []\n",
    "        self.length = 0\n",
    "        self.min_stack = []\n",
    "        self.max_stack = []\n",
    "        self.min_val = []\n",
    "        self.max_val = []\n",
    "    \n",
    "    def __str__(self):\n",
    "        return str(self.stack)\n",
    "    \n",
    "    #Methods\n",
    "    def push(self, el):\n",
    "        self.min_stack.append(el if self.length == 0 or el < self.min_stack[-1] else self.min_stack[-1])\n",
    "        self.max_stack.append(el if self.length == 0 or el > self.max_stack[-1] else self.max_stack[-1])\n",
    "        self.min_val = self.min_stack[-1]\n",
    "        self.max_val = self.max_stack[-1]\n",
    "        self.stack.append(el)\n",
    "        self.length += 1\n",
    "        \n",
    "    def pop(self):\n",
    "        if self.length != 0:\n",
    "            self.length -= 1\n",
    "            self.min_val = self.min_stack.pop()\n",
    "            self.max_val = self.max_stack.pop()\n",
    "            self.min_val = self.min_stack[-1] if self.min_stack != [] else []\n",
    "            self.max_val = self.max_stack[-1] if self.max_stack != [] else []\n",
    "            return self.stack.pop()\n",
    "        else:\n",
    "            return 'Stack is empty'\n",
    "\n",
    "    def empty(self):\n",
    "        return self.length == 0\n",
    "    \n",
    "    def clear(self):\n",
    "        self.stack = []\n",
    "        \n",
    "    def __del__(self):\n",
    "        del self.stack"
   ]
  },
  {
   "cell_type": "markdown",
   "metadata": {},
   "source": [
    "## Queue:"
   ]
  },
  {
   "cell_type": "code",
   "execution_count": 567,
   "metadata": {},
   "outputs": [],
   "source": [
    "class Queue_PythonList():\n",
    "    \n",
    "    #Magic Methods\n",
    "    def __init__(self):\n",
    "        self.queue = []\n",
    "        self.length = 0\n",
    "        self.head = 0\n",
    "        self.tail = - 1\n",
    "        self.max_queue = []\n",
    "        \n",
    "    def __str__(self):\n",
    "        return str(self.queue[self.head : self.tail + 1])\n",
    "    \n",
    "    #Methods\n",
    "    def enqueue(self, el):\n",
    "        self.queue.append(el)\n",
    "        self.max_queue.append(el if self.length == 0 or el > self.max_queue[-1] else self.max_queue[-1])\n",
    "        self.length += 1\n",
    "        self.tail += 1\n",
    "        \n",
    "    def dequeue(self):\n",
    "        if self.length != 0:\n",
    "            self.length -= 1\n",
    "            f = self.head\n",
    "            self.head += 1\n",
    "            return self.queue[f]\n",
    "        else:\n",
    "            return 'Queue is empty'\n",
    "        \n",
    "    def empty(self):\n",
    "        return self.length == 0\n",
    "    \n",
    "    def clear(self):\n",
    "        self.queue = []\n",
    "        \n",
    "    def __del__(self):\n",
    "        del self.queue"
   ]
  },
  {
   "cell_type": "markdown",
   "metadata": {},
   "source": [
    "## Queue (based on 2 stacks with tracking max):"
   ]
  },
  {
   "cell_type": "code",
   "execution_count": 568,
   "metadata": {},
   "outputs": [],
   "source": [
    "class Queue_Stacks():\n",
    "    \n",
    "    def __init__(self):\n",
    "        self.head = None\n",
    "        self.tail = None\n",
    "        self.length = 0\n",
    "        self.s_in = Stack_PythonList()\n",
    "        self.s_out = Stack_PythonList()\n",
    "        \n",
    "    def __str__(self):\n",
    "        return f'{self.s_in}, {self.s_out}, max_stacks: {self.s_in.max_stack}, {self.s_out.max_stack}'\n",
    "        \n",
    "    def enqueue(self, key):\n",
    "        self.length += 1\n",
    "        self.s_in.push(key)\n",
    "        \n",
    "    def dequeue(self):\n",
    "        if self.s_out.empty():\n",
    "            for _ in range(self.s_in.length - 1):\n",
    "                self.s_out.push(self.s_in.pop())\n",
    "            return self.s_in.pop()\n",
    "        else:\n",
    "            return self.s_out.pop()\n",
    "        \n",
    "    def max_val(self):\n",
    "        return max(self.s_in.max_val if self.s_in.max_val != [] else self.s_out.max_val - 1, \\\n",
    "                   self.s_out.max_val if self.s_out.max_val != [] else self.s_in.max_val - 1)"
   ]
  },
  {
   "cell_type": "markdown",
   "metadata": {},
   "source": [
    "# 2. Linked - list based Stack and Queue structure implementation"
   ]
  },
  {
   "cell_type": "markdown",
   "metadata": {},
   "source": [
    "## Stack:"
   ]
  },
  {
   "cell_type": "code",
   "execution_count": 569,
   "metadata": {},
   "outputs": [],
   "source": [
    "class Stack_LinkedList():\n",
    "    \n",
    "    '''push(), pop(), empty(), clear()'''\n",
    "    \n",
    "    #Magic Methods\n",
    "    def __init__(self):\n",
    "        self.head = None\n",
    "        self.tail = None\n",
    "        self.length = 0\n",
    "        self.L = LinkedList()\n",
    "    \n",
    "    def __str__(self):\n",
    "        return f'{self.L}'\n",
    "    \n",
    "    #Methods\n",
    "    def push(self, key):\n",
    "        self.L.add_tail(Node(key))\n",
    "        self.length += 1\n",
    "        \n",
    "    def pop(self):\n",
    "        if self.length != 0:\n",
    "            self.length -= 1\n",
    "            return self.L.del_tail().key\n",
    "        else:\n",
    "            return 'Stack is empty'\n",
    "\n",
    "    def empty(self):\n",
    "        return self.length == 0\n",
    "    \n",
    "    def clear(self):\n",
    "        self.L.clear()"
   ]
  },
  {
   "cell_type": "markdown",
   "metadata": {},
   "source": [
    "## Queue:"
   ]
  },
  {
   "cell_type": "code",
   "execution_count": 634,
   "metadata": {},
   "outputs": [],
   "source": [
    "class Queue_LinkedList():\n",
    "    \n",
    "    #Magic Methods\n",
    "    def __init__(self):\n",
    "        self.head = None\n",
    "        self.tail = None\n",
    "        self.length = 0\n",
    "        self.L = LinkedList()\n",
    "    \n",
    "    def __str__(self):\n",
    "        return f'{self.L}'\n",
    "    \n",
    "    #Methods\n",
    "    def enqueue(self, key):\n",
    "        self.L.add_tail(Node(key))\n",
    "        self.length += 1\n",
    "        \n",
    "    def dequeue(self):\n",
    "        if self.length != 0:\n",
    "            self.length -= 1\n",
    "            return self.L.del_tail().key\n",
    "        else:\n",
    "            return 'Queue is empty'\n",
    "        \n",
    "    \n",
    "    def empty(self):\n",
    "        return self.length == 0\n",
    "    \n",
    "    def clear(self):\n",
    "        self.L.clear()"
   ]
  },
  {
   "cell_type": "markdown",
   "metadata": {},
   "source": [
    "# Problems:"
   ]
  },
  {
   "cell_type": "markdown",
   "metadata": {},
   "source": [
    "## 1. Brackets problem"
   ]
  },
  {
   "cell_type": "code",
   "execution_count": 571,
   "metadata": {},
   "outputs": [],
   "source": [
    "def IsBalanced(string):\n",
    "    br1 = ['(', '[', '{']\n",
    "    br2 = [')', ']', '}']\n",
    "    s = Stack_LinkedList()\n",
    "    for i in range(len(string)):\n",
    "        if string[i] not in br1 + br2:\n",
    "            continue\n",
    "        if string[i] in br1:\n",
    "            s.push((string[i], i + 1))\n",
    "        else:\n",
    "            if s.empty():\n",
    "                return i + 1\n",
    "            top = s.pop()[0]\n",
    "            stat = False\n",
    "            for b1, b2 in zip(br1, br2):\n",
    "                stat = stat or (top == b1 and string[i] != b2)\n",
    "            if stat:\n",
    "                return i + 1\n",
    "    return 'Success' if s.empty() else s.pop()[1]"
   ]
  },
  {
   "cell_type": "code",
   "execution_count": 572,
   "metadata": {},
   "outputs": [
    {
     "data": {
      "text/plain": [
       "'Success'"
      ]
     },
     "execution_count": 572,
     "metadata": {},
     "output_type": "execute_result"
    }
   ],
   "source": [
    "IsBalanced('df{}')"
   ]
  },
  {
   "cell_type": "code",
   "execution_count": 573,
   "metadata": {},
   "outputs": [
    {
     "data": {
      "text/plain": [
       "'Success'"
      ]
     },
     "execution_count": 573,
     "metadata": {},
     "output_type": "execute_result"
    }
   ],
   "source": [
    "IsBalanced('{[[()[]]]{}}')"
   ]
  },
  {
   "cell_type": "code",
   "execution_count": 574,
   "metadata": {},
   "outputs": [
    {
     "data": {
      "text/plain": [
       "'Success'"
      ]
     },
     "execution_count": 574,
     "metadata": {},
     "output_type": "execute_result"
    }
   ],
   "source": [
    "IsBalanced('{[[(){[]{{[([{}])]}}}{}]]}')"
   ]
  },
  {
   "cell_type": "code",
   "execution_count": 575,
   "metadata": {},
   "outputs": [
    {
     "data": {
      "text/plain": [
       "3"
      ]
     },
     "execution_count": 575,
     "metadata": {},
     "output_type": "execute_result"
    }
   ],
   "source": [
    "IsBalanced('df{ghjkl;{}')"
   ]
  },
  {
   "cell_type": "code",
   "execution_count": 576,
   "metadata": {},
   "outputs": [
    {
     "data": {
      "text/plain": [
       "1"
      ]
     },
     "execution_count": 576,
     "metadata": {},
     "output_type": "execute_result"
    }
   ],
   "source": [
    "IsBalanced('}')"
   ]
  },
  {
   "cell_type": "code",
   "execution_count": 577,
   "metadata": {},
   "outputs": [
    {
     "data": {
      "text/plain": [
       "1"
      ]
     },
     "execution_count": 577,
     "metadata": {},
     "output_type": "execute_result"
    }
   ],
   "source": [
    "IsBalanced('{[[{{{[([{}])]}}}]]')"
   ]
  },
  {
   "cell_type": "markdown",
   "metadata": {},
   "source": [
    "## 2. Maximum in sliding window"
   ]
  },
  {
   "cell_type": "code",
   "execution_count": 628,
   "metadata": {},
   "outputs": [],
   "source": [
    "def MaxOfSlidingWindow(A, m):\n",
    "    n = len(A)\n",
    "    q = Queue_Stacks()\n",
    "    for i in range(m):\n",
    "        q.enqueue(A[i])\n",
    "    \n",
    "    mx = []\n",
    "    mx.append(q.max_val())\n",
    "    for i in range(m, len(A)):\n",
    "        q.dequeue()\n",
    "        q.enqueue(A[i])\n",
    "        mx.append(q.max_val())\n",
    "    return mx"
   ]
  },
  {
   "cell_type": "code",
   "execution_count": 629,
   "metadata": {},
   "outputs": [],
   "source": [
    "A = [2, 7, 3, 1, 5, 2, 6, 2]\n",
    "m = 4"
   ]
  },
  {
   "cell_type": "code",
   "execution_count": 630,
   "metadata": {},
   "outputs": [
    {
     "data": {
      "text/plain": [
       "[7, 7, 5, 6, 6]"
      ]
     },
     "execution_count": 630,
     "metadata": {},
     "output_type": "execute_result"
    }
   ],
   "source": [
    "MaxOfSlidingWindow(A, m)"
   ]
  },
  {
   "cell_type": "code",
   "execution_count": 631,
   "metadata": {},
   "outputs": [],
   "source": [
    "A = [2, 3, 9]\n",
    "m = 3"
   ]
  },
  {
   "cell_type": "code",
   "execution_count": 632,
   "metadata": {},
   "outputs": [
    {
     "data": {
      "text/plain": [
       "[9]"
      ]
     },
     "execution_count": 632,
     "metadata": {},
     "output_type": "execute_result"
    }
   ],
   "source": [
    "MaxOfSlidingWindow(A, m)"
   ]
  },
  {
   "cell_type": "code",
   "execution_count": 635,
   "metadata": {},
   "outputs": [],
   "source": [
    "N = 10"
   ]
  },
  {
   "cell_type": "code",
   "execution_count": 948,
   "metadata": {},
   "outputs": [],
   "source": [
    "def BinaryGap(N):\n",
    "    s = bin(N)[2:]\n",
    "    print(s)\n",
    "    answ = 0\n",
    "    longest = 0\n",
    "    m = 0\n",
    "    for i in s:\n",
    "        if i == '0':\n",
    "            m += 1\n",
    "            if longest < m:\n",
    "                longest = m\n",
    "        else:\n",
    "            m = 0  \n",
    "            answ = longest\n",
    "    \n",
    "    return answ"
   ]
  },
  {
   "cell_type": "code",
   "execution_count": 949,
   "metadata": {},
   "outputs": [
    {
     "name": "stdout",
     "output_type": "stream",
     "text": [
      "10000000000\n"
     ]
    },
    {
     "data": {
      "text/plain": [
       "0"
      ]
     },
     "execution_count": 949,
     "metadata": {},
     "output_type": "execute_result"
    }
   ],
   "source": [
    "BinaryGap(N = 1024)"
   ]
  }
 ],
 "metadata": {
  "kernelspec": {
   "display_name": "Python 3",
   "language": "python",
   "name": "python3"
  },
  "language_info": {
   "codemirror_mode": {
    "name": "ipython",
    "version": 3
   },
   "file_extension": ".py",
   "mimetype": "text/x-python",
   "name": "python",
   "nbconvert_exporter": "python",
   "pygments_lexer": "ipython3",
   "version": "3.7.0"
  }
 },
 "nbformat": 4,
 "nbformat_minor": 2
}
