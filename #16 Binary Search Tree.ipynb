{
 "cells": [
  {
   "cell_type": "code",
   "execution_count": 1,
   "metadata": {},
   "outputs": [],
   "source": [
    "from random import randint\n",
    "import matplotlib.pyplot as plt\n",
    "import time\n",
    "import math as mth\n",
    "import numpy as np"
   ]
  },
  {
   "cell_type": "markdown",
   "metadata": {},
   "source": [
    "# Binary Search Tree"
   ]
  },
  {
   "cell_type": "code",
   "execution_count": 282,
   "metadata": {},
   "outputs": [],
   "source": [
    "class Node:\n",
    "    \n",
    "    def __init__(self, key):\n",
    "        self.key = key\n",
    "        self.p = None\n",
    "        self.left = None\n",
    "        self.right = None\n",
    "        \n",
    "class BinSearchTree:\n",
    "    \n",
    "    def __init__(self):\n",
    "        self.root = None\n",
    "    \n",
    "    def InorderTW(self, x):\n",
    "        if x is not None:\n",
    "            self.InorderTW(x.left)\n",
    "            print(x.key)\n",
    "            self.InorderTW(x.right)\n",
    "    \n",
    "    def PreorderTW(self, x):\n",
    "        if x is not None:\n",
    "            print(x.key)\n",
    "            self.PreorderTW(x.left)\n",
    "            self.PreorderTW(x.right)\n",
    "    \n",
    "    def PostorderTW(self, x):\n",
    "        if x is not None:\n",
    "            self.PreorderTW(x.left)\n",
    "            self.PreorderTW(x.right)\n",
    "            print(x.key)\n",
    "    \n",
    "    def Search(self, k):\n",
    "        x = self.root\n",
    "        while x is not None and x.key != k:\n",
    "            if k < x.key:\n",
    "                x = x.left\n",
    "            else:\n",
    "                x = x.right\n",
    "        return x\n",
    "    \n",
    "    def Min(self, r = None):\n",
    "        x = r or self.root\n",
    "        while x.left is not None:\n",
    "            x = x.left\n",
    "        return x\n",
    "    \n",
    "    def Max(self, r = None):\n",
    "        x = r or self.root\n",
    "        while x.right is not None:\n",
    "            x = x.right\n",
    "        return x\n",
    "    \n",
    "    def Successor(self, k):\n",
    "        x = self.Search(k)\n",
    "        if x is None:\n",
    "            return None\n",
    "        \n",
    "        if x.right is not None:\n",
    "            return self.Min(x.right)\n",
    "        y = x.p\n",
    "        while y is not None and y.right == x:\n",
    "            x = y\n",
    "            y = y.p\n",
    "        return y\n",
    "    \n",
    "    def Predecessor(self, k):\n",
    "        x = self.Search(k)\n",
    "        if x is None:\n",
    "            return None\n",
    "        \n",
    "        if x.left is not None:\n",
    "            return self.Max(x.left)\n",
    "        y = x.p\n",
    "        while y is not None and y.left == x:\n",
    "            x = y\n",
    "            y = y.p\n",
    "        return y\n",
    "    \n",
    "    def Insert(self, k):\n",
    "        z = Node(k)\n",
    "        if self.root is None:\n",
    "            self.root = z\n",
    "        else:\n",
    "            x = self.root\n",
    "            while x is not None:\n",
    "                y = x\n",
    "                if z.key <= x.key:\n",
    "                    x = x.left\n",
    "                else:\n",
    "                    x = x.right\n",
    "            z.p = y\n",
    "            if z.key <= y.key:\n",
    "                y.left = z\n",
    "            else:\n",
    "                y.right = z\n",
    "                \n",
    "    def __Transplant(self, u, v):\n",
    "        if u.p is None:\n",
    "            self.root = v\n",
    "        elif u == u.p.left:\n",
    "            u.p.left = v\n",
    "        else:\n",
    "            u.p.right = v\n",
    "        if v is not None:\n",
    "            v.p = u.p\n",
    "            \n",
    "    def Delete(self, z):\n",
    "        \n",
    "        if z.left is None:\n",
    "            self.__Transplant(z, z.right)\n",
    "        elif z.right is None:\n",
    "            self.__Transplant(z, z.left)\n",
    "        else:\n",
    "            y = Min(z.right)\n",
    "            if y.p != z:\n",
    "                self.__Transplant(y, y.right)\n",
    "                y.right = z.right\n",
    "                y.right.p = y\n",
    "            self.__Transplant(z, y)\n",
    "            y.left = z.left\n",
    "            y.left.p = y"
   ]
  },
  {
   "cell_type": "code",
   "execution_count": 283,
   "metadata": {},
   "outputs": [],
   "source": [
    "t = BinSearchTree()"
   ]
  },
  {
   "cell_type": "code",
   "execution_count": 289,
   "metadata": {},
   "outputs": [],
   "source": [
    "t.Insert(100)"
   ]
  },
  {
   "cell_type": "code",
   "execution_count": 305,
   "metadata": {},
   "outputs": [
    {
     "name": "stdout",
     "output_type": "stream",
     "text": [
      "25\n",
      "50\n"
     ]
    }
   ],
   "source": [
    "t.InorderTW(t.root)"
   ]
  },
  {
   "cell_type": "code",
   "execution_count": 306,
   "metadata": {},
   "outputs": [
    {
     "data": {
      "text/plain": [
       "25"
      ]
     },
     "execution_count": 306,
     "metadata": {},
     "output_type": "execute_result"
    }
   ],
   "source": [
    "t.Min().key"
   ]
  },
  {
   "cell_type": "code",
   "execution_count": 307,
   "metadata": {},
   "outputs": [
    {
     "data": {
      "text/plain": [
       "50"
      ]
     },
     "execution_count": 307,
     "metadata": {},
     "output_type": "execute_result"
    }
   ],
   "source": [
    "t.Max().key"
   ]
  },
  {
   "cell_type": "code",
   "execution_count": 309,
   "metadata": {},
   "outputs": [
    {
     "data": {
      "text/plain": [
       "50"
      ]
     },
     "execution_count": 309,
     "metadata": {},
     "output_type": "execute_result"
    }
   ],
   "source": [
    "t.Successor(25).key"
   ]
  },
  {
   "cell_type": "code",
   "execution_count": 310,
   "metadata": {},
   "outputs": [
    {
     "data": {
      "text/plain": [
       "25"
      ]
     },
     "execution_count": 310,
     "metadata": {},
     "output_type": "execute_result"
    }
   ],
   "source": [
    "t.Predecessor(50).key"
   ]
  },
  {
   "cell_type": "code",
   "execution_count": 312,
   "metadata": {},
   "outputs": [
    {
     "data": {
      "text/plain": [
       "25"
      ]
     },
     "execution_count": 312,
     "metadata": {},
     "output_type": "execute_result"
    }
   ],
   "source": [
    "t.root.left.key"
   ]
  },
  {
   "cell_type": "code",
   "execution_count": 304,
   "metadata": {},
   "outputs": [],
   "source": [
    "t.Delete(t.root)"
   ]
  },
  {
   "cell_type": "code",
   "execution_count": null,
   "metadata": {},
   "outputs": [],
   "source": []
  }
 ],
 "metadata": {
  "kernelspec": {
   "display_name": "Python 3",
   "language": "python",
   "name": "python3"
  },
  "language_info": {
   "codemirror_mode": {
    "name": "ipython",
    "version": 3
   },
   "file_extension": ".py",
   "mimetype": "text/x-python",
   "name": "python",
   "nbconvert_exporter": "python",
   "pygments_lexer": "ipython3",
   "version": "3.7.0"
  }
 },
 "nbformat": 4,
 "nbformat_minor": 2
}
