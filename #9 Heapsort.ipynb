{
 "cells": [
  {
   "cell_type": "code",
   "execution_count": 6,
   "metadata": {},
   "outputs": [],
   "source": [
    "from random import randint\n",
    "import matplotlib.pyplot as plt\n",
    "import time\n",
    "import math as mth\n",
    "import numpy as np"
   ]
  },
  {
   "cell_type": "code",
   "execution_count": 7,
   "metadata": {},
   "outputs": [],
   "source": [
    "def Parent(i):\n",
    "    return i // 2\n",
    "\n",
    "def Left(i):\n",
    "    return 2 * i\n",
    "\n",
    "def Right(i):\n",
    "    return 2 * i + 1"
   ]
  },
  {
   "cell_type": "code",
   "execution_count": null,
   "metadata": {},
   "outputs": [],
   "source": []
  },
  {
   "cell_type": "markdown",
   "metadata": {},
   "source": [
    "# Max Heap:"
   ]
  },
  {
   "cell_type": "code",
   "execution_count": 52,
   "metadata": {},
   "outputs": [],
   "source": [
    "def Max_Heapify_rec(A, i, heap_size):\n",
    "    \n",
    "    i += 1\n",
    "    l = Left(i)\n",
    "    r = Right(i)\n",
    "    largest = i\n",
    "    \n",
    "    if l <= heap_size and A[l - 1] > A[largest - 1]:\n",
    "        largest = l\n",
    "    if r <= heap_size and A[r - 1] > A[largest - 1]:\n",
    "        largest = r\n",
    "    \n",
    "    if largest != i:\n",
    "        A[i - 1], A[largest - 1] = A[largest - 1], A[i - 1]\n",
    "        #print(A)\n",
    "        Max_Heapify_rec(A, largest - 1)\n",
    "        \n",
    "def Max_Heapify_iter(A, i, heap_size):\n",
    "    \n",
    "    i += 1\n",
    "    while i != heap_size:\n",
    "        l = Left(i)\n",
    "        r = Right(i)\n",
    "        largest = i\n",
    "        stop = 0\n",
    "        \n",
    "        if l <= heap_size:\n",
    "            if A[l - 1] > A[largest - 1]:\n",
    "                largest = l\n",
    "        else:\n",
    "            stop += 1\n",
    "        \n",
    "        if r <= heap_size:\n",
    "            if A[r - 1] > A[largest - 1]:\n",
    "                largest = r\n",
    "        else:\n",
    "            stop += 1\n",
    "    \n",
    "        if largest != i and stop != 2:\n",
    "            A[i - 1], A[largest - 1] = A[largest - 1], A[i - 1]\n",
    "            #print(A)\n",
    "            i = largest\n",
    "        else:\n",
    "            break\n",
    "\n",
    "def Build_Max_Heap(A, heap_size):\n",
    "    for i in list(range(len(A) // 2 - 1, -1, -1)):\n",
    "        Max_Heapify_iter(A, i, heap_size)"
   ]
  },
  {
   "cell_type": "markdown",
   "metadata": {},
   "source": [
    "# Min Heap:"
   ]
  },
  {
   "cell_type": "code",
   "execution_count": 9,
   "metadata": {},
   "outputs": [],
   "source": [
    "def Min_Heapify_rec(A, i, heap_size):\n",
    "    \n",
    "    i += 1\n",
    "    l = Left(i)\n",
    "    r = Right(i)\n",
    "    smallest = i\n",
    "    \n",
    "    if l <= heap_size and A[l - 1] < A[smallest - 1]:\n",
    "        smallest = l\n",
    "    if r <= heap_size and A[r - 1] < A[smallest - 1]:\n",
    "        smallest = r\n",
    "    \n",
    "    if smallest != i:\n",
    "        A[i - 1], A[smallest - 1] = A[smallest - 1], A[i - 1]\n",
    "        #print(A)\n",
    "        Min_Heapify_rec(A, smallest - 1)\n",
    "        \n",
    "def Min_Heapify_iter(A, i, heap_size):\n",
    "    \n",
    "    i += 1\n",
    "    while True:\n",
    "        l = Left(i)\n",
    "        r = Right(i)\n",
    "        smallest = i\n",
    "        stop = 0\n",
    "        \n",
    "        if l <= heap_size:\n",
    "            if A[l - 1] < A[smallest - 1]:\n",
    "                smallest = l\n",
    "        else:\n",
    "            stop += 1\n",
    "        \n",
    "        if r <= heap_size:\n",
    "            if A[r - 1] < A[smallest - 1]:\n",
    "                smallest = r\n",
    "        else:\n",
    "            stop += 1\n",
    "    \n",
    "        if smallest != i and stop != 2:\n",
    "            A[i - 1], A[smallest - 1] = A[smallest - 1], A[i - 1]\n",
    "            #print(A)\n",
    "            i = smallest\n",
    "        else:\n",
    "            break\n",
    "\n",
    "def Build_Min_Heap(A, heap_size):\n",
    "    for i in list(range(len(A) // 2 - 1, -1, -1)):\n",
    "        Min_Heapify_iter(A, i, heap_size)"
   ]
  },
  {
   "cell_type": "markdown",
   "metadata": {},
   "source": [
    "# Heapsort:"
   ]
  },
  {
   "cell_type": "code",
   "execution_count": 10,
   "metadata": {},
   "outputs": [],
   "source": [
    "def Heapsort(A, ascending = True):\n",
    "    \n",
    "    # Ascending order\n",
    "    if ascending == True:\n",
    "        Build_Max_Heap(A, len(A))\n",
    "        for i in range(len(A) - 1, 0, -1):\n",
    "            A[i], A[0] = A[0], A[i]\n",
    "            Max_Heapify_iter(A, 0, i)\n",
    "            \n",
    "    #Descending order\n",
    "    else:\n",
    "        Build_Min_Heap(A, len(A))\n",
    "        for i in range(len(A) - 1, 0, -1):\n",
    "            A[i], A[0] = A[0], A[i]\n",
    "            Min_Heapify_iter(A, 0, i)"
   ]
  },
  {
   "cell_type": "markdown",
   "metadata": {},
   "source": [
    "# Examples:"
   ]
  },
  {
   "cell_type": "code",
   "execution_count": 15,
   "metadata": {},
   "outputs": [
    {
     "data": {
      "text/plain": [
       "[5, 3, 17, 10, 84, 19, 6, 22, 9]"
      ]
     },
     "execution_count": 15,
     "metadata": {},
     "output_type": "execute_result"
    }
   ],
   "source": [
    "a = [5, 3, 17, 10, 84, 19, 6, 22, 9]\n",
    "a"
   ]
  },
  {
   "cell_type": "code",
   "execution_count": 12,
   "metadata": {},
   "outputs": [
    {
     "data": {
      "text/plain": [
       "[3, 5, 6, 9, 10, 17, 19, 22, 84]"
      ]
     },
     "execution_count": 12,
     "metadata": {},
     "output_type": "execute_result"
    }
   ],
   "source": [
    "Heapsort(a)\n",
    "a"
   ]
  },
  {
   "cell_type": "code",
   "execution_count": 13,
   "metadata": {},
   "outputs": [
    {
     "data": {
      "text/plain": [
       "[84, 22, 19, 17, 10, 9, 6, 5, 3]"
      ]
     },
     "execution_count": 13,
     "metadata": {},
     "output_type": "execute_result"
    }
   ],
   "source": [
    "Heapsort(a, ascending = 0)\n",
    "a"
   ]
  },
  {
   "cell_type": "markdown",
   "metadata": {},
   "source": [
    "# Algorithms comparing:"
   ]
  },
  {
   "cell_type": "code",
   "execution_count": 46,
   "metadata": {},
   "outputs": [
    {
     "name": "stdout",
     "output_type": "stream",
     "text": [
      "--- 27.171300411224365 seconds ---\n"
     ]
    }
   ],
   "source": [
    "N = 1000\n",
    "t1 = []\n",
    "t2 = []\n",
    "tt = time.time()\n",
    "for n in range(1, N + 1):\n",
    "    \n",
    "    array = list(reversed(range(n)))\n",
    "    \n",
    "    #1\n",
    "    start_time = time.time()\n",
    "    Heapsort(array)\n",
    "    time_1 = time.time() - start_time\n",
    "    \n",
    "    #2\n",
    "    start_time = time.time()\n",
    "    Merge_Sort(array, 0, n - 1)\n",
    "    time_2 = time.time() - start_time\n",
    "    \n",
    "    \n",
    "    t1.append(time_1)\n",
    "    t2.append(time_2)\n",
    "\n",
    "print(\"--- %s seconds ---\" % (time.time() - tt))"
   ]
  },
  {
   "cell_type": "code",
   "execution_count": 51,
   "metadata": {},
   "outputs": [
    {
     "data": {
      "image/png": "[encoded data removed]",
      "text/plain": [
       "<Figure size 640x480 with 1 Axes>"
      ]
     },
     "metadata": {
      "needs_background": "light"
     },
     "output_type": "display_data"
    }
   ],
   "source": [
    "plt.figure(num=None, figsize = (8, 6), dpi = 80)\n",
    "\n",
    "p1 = plt.plot(range(1, N + 1), t1)\n",
    "p2 = plt.plot(range(1, N + 1), t2)\n",
    "\n",
    "plt.xlabel('Length of array', fontsize = 15)\n",
    "plt.ylabel('Time, s', fontsize = 15)\n",
    "\n",
    "\n",
    "plt.grid()\n",
    "plt.legend((p1[0], p2[0]),('Heapsort', 'Merge_Sort'), fontsize = 15)\n",
    "plt.show()"
   ]
  },
  {
   "cell_type": "markdown",
   "metadata": {},
   "source": [
    "## HEAPSORT is the slowest of the sorting algorithms but unlike merge and quick sort it does not require massive recursion or multiple arrays to work. Merge Sort: The merge sort is slightly faster than the heap sort for larger sets, but it requires twice the memory of the heap sort because of the second array."
   ]
  },
  {
   "cell_type": "markdown",
   "metadata": {},
   "source": [
    "# Merge Sort:"
   ]
  },
  {
   "cell_type": "code",
   "execution_count": 40,
   "metadata": {},
   "outputs": [],
   "source": [
    "def Merge(A, p, q, r):\n",
    "    \n",
    "    global inv\n",
    "    \n",
    "    L = A[p:q + 1]\n",
    "    R = A[q + 1:r + 1]\n",
    "    \n",
    "    i = 0\n",
    "    j = 0\n",
    "    for k in range(p, r + 1):\n",
    "        if L[i] <= R[j]:\n",
    "            A[k] = L[i]\n",
    "            i += 1\n",
    "            if i >= len(L):\n",
    "                A[k + 1: r + 1] = R[j:]\n",
    "                break\n",
    "        else:\n",
    "            A[k] = R[j]\n",
    "            inv += j\n",
    "            j += 1\n",
    "            if j >= len(R):\n",
    "                inv += len(R) * (len(L) - i)\n",
    "                A[k + 1: r + 1] = L[i:]\n",
    "                break\n",
    "\n",
    "def Merge_Sort(A, p, r):\n",
    "    inv = 0\n",
    "    if p < r:\n",
    "        q = (p + r) // 2\n",
    "        Merge_Sort(A, p, q)\n",
    "        Merge_Sort(A, q + 1, r)\n",
    "        Merge(A, p, q, r)"
   ]
  }
 ],
 "metadata": {
  "kernelspec": {
   "display_name": "Python 3",
   "language": "python",
   "name": "python3"
  },
  "language_info": {
   "codemirror_mode": {
    "name": "ipython",
    "version": 3
   },
   "file_extension": ".py",
   "mimetype": "text/x-python",
   "name": "python",
   "nbconvert_exporter": "python",
   "pygments_lexer": "ipython3",
   "version": "3.7.0"
  }
 },
 "nbformat": 4,
 "nbformat_minor": 2
}
