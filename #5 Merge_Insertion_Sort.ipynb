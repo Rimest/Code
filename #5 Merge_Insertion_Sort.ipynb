{
 "cells": [
  {
   "cell_type": "code",
   "execution_count": 1,
   "metadata": {},
   "outputs": [],
   "source": [
    "from random import randint\n",
    "import matplotlib.pyplot as plt\n",
    "import time\n",
    "import numpy as np"
   ]
  },
  {
   "cell_type": "code",
   "execution_count": 5,
   "metadata": {},
   "outputs": [],
   "source": [
    "def Merge(A, p, q, r):\n",
    "    L = A[p:q + 1]\n",
    "    R = A[q + 1:r + 1]\n",
    "    \n",
    "    i = 0\n",
    "    j = 0\n",
    "    for k in range(p, r + 1):\n",
    "        if L[i] <= R[j]:\n",
    "            A[k] = L[i]\n",
    "            i += 1\n",
    "            if i >= len(L):\n",
    "                A[k + 1: r + 1] = R[j:]\n",
    "                break\n",
    "        else:\n",
    "            A[k] = R[j]\n",
    "            j += 1\n",
    "            if j >= len(R):\n",
    "                A[k + 1: r + 1] = L[i:]\n",
    "                break\n",
    "                \n",
    "def Insertion_Sort(a):\n",
    "    for i in range(1, len(a)):\n",
    "        for j in range(i):\n",
    "            if a[i] < a[j]:\n",
    "                a[i], a[j] = a[j], a[i]\n",
    "    return a"
   ]
  },
  {
   "cell_type": "code",
   "execution_count": 289,
   "metadata": {},
   "outputs": [],
   "source": [
    "def Merge_Insertion_Sort(a, k):\n",
    "    \n",
    "    n = len(a)\n",
    "    for i in range(n // k):\n",
    "        a[i * k : (i + 1) * k] = Insertion_Sort(a[i * k : (i + 1) * k])\n",
    "        \n",
    "    if n % k != 0:\n",
    "        a[-(n % k) :] = Insertion_Sort(a[-(n % k):])\n",
    "    \n",
    "    for i in range(1, n // k + int(n % k != 0)):\n",
    "        Merge(a, 0, i * k - 1, (i + 1) * k - 1)"
   ]
  },
  {
   "cell_type": "code",
   "execution_count": 445,
   "metadata": {},
   "outputs": [
    {
     "name": "stdout",
     "output_type": "stream",
     "text": [
      "--- 7.934004783630371 seconds ---\n"
     ]
    }
   ],
   "source": [
    "K = 600\n",
    "n = 1000\n",
    "t = []\n",
    "x = []\n",
    "t1 = time.time()\n",
    "a = list(reversed(range(n)))\n",
    "for k in range(1, K + 1):\n",
    "    start_time = time.time()\n",
    "    Merge_Insortion_Sort(a, k)\n",
    "    time_ = time.time() - start_time\n",
    "    t.append(time_)\n",
    "    x.append(n / k)\n",
    "print(\"--- %s seconds ---\" % (time.time() - t1))"
   ]
  },
  {
   "cell_type": "code",
   "execution_count": 446,
   "metadata": {},
   "outputs": [
    {
     "data": {
      "text/plain": [
       "[<matplotlib.lines.Line2D at 0x16d953fa208>]"
      ]
     },
     "execution_count": 446,
     "metadata": {},
     "output_type": "execute_result"
    },
    {
     "data": {
      "image/png": "[encoded data removed]",
      "text/plain": [
       "<Figure size 432x288 with 1 Axes>"
      ]
     },
     "metadata": {
      "needs_background": "light"
     },
     "output_type": "display_data"
    }
   ],
   "source": [
    "plt.plot(x, t)"
   ]
  },
  {
   "cell_type": "code",
   "execution_count": 447,
   "metadata": {},
   "outputs": [
    {
     "data": {
      "text/plain": [
       "16.666666666666668"
      ]
     },
     "execution_count": 447,
     "metadata": {},
     "output_type": "execute_result"
    }
   ],
   "source": [
    "x[t.index(min(t))]"
   ]
  },
  {
   "cell_type": "code",
   "execution_count": 448,
   "metadata": {},
   "outputs": [
    {
     "data": {
      "text/plain": [
       "59.99999999999999"
      ]
     },
     "execution_count": 448,
     "metadata": {},
     "output_type": "execute_result"
    }
   ],
   "source": [
    "n / x[t.index(min(t))]"
   ]
  },
  {
   "cell_type": "code",
   "execution_count": 449,
   "metadata": {},
   "outputs": [
    {
     "data": {
      "text/plain": [
       "[<matplotlib.lines.Line2D at 0x16d95449d68>]"
      ]
     },
     "execution_count": 449,
     "metadata": {},
     "output_type": "execute_result"
    },
    {
     "data": {
      "image/png": "[encoded data removed]",
      "text/plain": [
       "<Figure size 432x288 with 1 Axes>"
      ]
     },
     "metadata": {
      "needs_background": "light"
     },
     "output_type": "display_data"
    }
   ],
   "source": [
    "plt.plot(range(1, K + 1), t)"
   ]
  },
  {
   "cell_type": "code",
   "execution_count": null,
   "metadata": {},
   "outputs": [],
   "source": []
  }
 ],
 "metadata": {
  "kernelspec": {
   "display_name": "Python 3",
   "language": "python",
   "name": "python3"
  },
  "language_info": {
   "codemirror_mode": {
    "name": "ipython",
    "version": 3
   },
   "file_extension": ".py",
   "mimetype": "text/x-python",
   "name": "python",
   "nbconvert_exporter": "python",
   "pygments_lexer": "ipython3",
   "version": "3.7.0"
  }
 },
 "nbformat": 4,
 "nbformat_minor": 2
}
