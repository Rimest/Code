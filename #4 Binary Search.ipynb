{
 "cells": [
  {
   "cell_type": "code",
   "execution_count": 1,
   "metadata": {},
   "outputs": [],
   "source": [
    "from random import randint\n",
    "import matplotlib.pyplot as plt\n",
    "import time\n",
    "import numpy as np"
   ]
  },
  {
   "cell_type": "code",
   "execution_count": 164,
   "metadata": {},
   "outputs": [],
   "source": [
    "def Binary_Search(a, v):\n",
    "    #a = sorted(a)\n",
    "    \n",
    "    i = 0\n",
    "    j = len(a) - 1\n",
    "    \n",
    "    while True:\n",
    "        k = (i + j) // 2\n",
    "        if v == a[k]:\n",
    "            return k\n",
    "        elif k == i or k == j:\n",
    "            return 'Not Found'\n",
    "        \n",
    "        if v < a[k]:\n",
    "            j = k\n",
    "        elif v > a[k]:\n",
    "            i = k"
   ]
  },
  {
   "cell_type": "code",
   "execution_count": 181,
   "metadata": {},
   "outputs": [
    {
     "name": "stdout",
     "output_type": "stream",
     "text": [
      "--- 1.3188912868499756 seconds ---\n"
     ]
    }
   ],
   "source": [
    "N = 10000\n",
    "t = []\n",
    "t1 = time.time()\n",
    "for n in range(1, N + 1):\n",
    "    start_time = time.time()\n",
    "    Binary_Search(list(range(n)), 0)\n",
    "    time_ = time.time() - start_time\n",
    "    t.append(time_)\n",
    "\n",
    "print(\"--- %s seconds ---\" % (time.time() - t1))"
   ]
  },
  {
   "cell_type": "code",
   "execution_count": 182,
   "metadata": {},
   "outputs": [
    {
     "data": {
      "text/plain": [
       "[<matplotlib.lines.Line2D at 0x21f8140a630>]"
      ]
     },
     "execution_count": 182,
     "metadata": {},
     "output_type": "execute_result"
    },
    {
     "data": {
      "image/png": "[encoded data removed]",
      "text/plain": [
       "<Figure size 432x288 with 1 Axes>"
      ]
     },
     "metadata": {
      "needs_background": "light"
     },
     "output_type": "display_data"
    }
   ],
   "source": [
    "plt.plot(range(1, N + 1), t)"
   ]
  },
  {
   "cell_type": "code",
   "execution_count": 172,
   "metadata": {},
   "outputs": [
    {
     "name": "stdout",
     "output_type": "stream",
     "text": [
      "--- 15.434491395950317 seconds ---\n"
     ]
    }
   ],
   "source": [
    "n = 100000000\n",
    "start_time = time.time()\n",
    "Binary_Search(list(range(n)), 0)\n",
    "time_ = time.time() - start_time\n",
    "print(\"--- %s seconds ---\" % (time_))"
   ]
  },
  {
   "cell_type": "code",
   "execution_count": null,
   "metadata": {},
   "outputs": [],
   "source": []
  }
 ],
 "metadata": {
  "kernelspec": {
   "display_name": "Python 3",
   "language": "python",
   "name": "python3"
  },
  "language_info": {
   "codemirror_mode": {
    "name": "ipython",
    "version": 3
   },
   "file_extension": ".py",
   "mimetype": "text/x-python",
   "name": "python",
   "nbconvert_exporter": "python",
   "pygments_lexer": "ipython3",
   "version": "3.7.0"
  }
 },
 "nbformat": 4,
 "nbformat_minor": 2
}
