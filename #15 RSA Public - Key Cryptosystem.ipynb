{
 "cells": [
  {
   "cell_type": "code",
   "execution_count": 504,
   "metadata": {},
   "outputs": [],
   "source": [
    "from random import randint\n",
    "import matplotlib.pyplot as plt\n",
    "import time\n",
    "import math\n",
    "import numpy as np\n",
    "import sys\n",
    "\n",
    "from IPython.display import clear_output\n",
    "#clear_output(wait = False) - clear screen"
   ]
  },
  {
   "cell_type": "markdown",
   "metadata": {},
   "source": [
    "# 1. Euclid Algorithm GCD"
   ]
  },
  {
   "cell_type": "code",
   "execution_count": 556,
   "metadata": {},
   "outputs": [],
   "source": [
    "def GCD(a, b):\n",
    "    return a if b == 0 else GCD(b, a % b)\n",
    "\n",
    "def ExGCD(a, b):\n",
    "    if b == 0:\n",
    "        return (a, 1, 0)\n",
    "    else:\n",
    "        (d_, x_, y_) = ExGCD(b, a % b)\n",
    "        return (d_, y_, x_ - a // b * y_)"
   ]
  },
  {
   "cell_type": "code",
   "execution_count": 560,
   "metadata": {},
   "outputs": [
    {
     "data": {
      "text/plain": [
       "3"
      ]
     },
     "execution_count": 560,
     "metadata": {},
     "output_type": "execute_result"
    }
   ],
   "source": [
    "GCD(30, 21)"
   ]
  },
  {
   "cell_type": "code",
   "execution_count": 561,
   "metadata": {},
   "outputs": [
    {
     "data": {
      "text/plain": [
       "(3, -11, 14)"
      ]
     },
     "execution_count": 561,
     "metadata": {},
     "output_type": "execute_result"
    }
   ],
   "source": [
    "ExGCD(99, 78)"
   ]
  },
  {
   "cell_type": "markdown",
   "metadata": {},
   "source": [
    "# 2. Modular Linear Equation Solving"
   ]
  },
  {
   "cell_type": "code",
   "execution_count": 562,
   "metadata": {},
   "outputs": [],
   "source": [
    "def MLESolve(a, b, n):\n",
    "    #Solving equation: ax = b (mod n), where x - unknown\n",
    "    d, x_, y_ = ExGCD(a, n)\n",
    "    if not b % d:\n",
    "        x0 = (x_ * (b // d)) % n\n",
    "        s = [0] * d\n",
    "        for i in range(d):\n",
    "            s[i] = (x0 + i * (n // d)) % n\n",
    "        return s\n",
    "    return []"
   ]
  },
  {
   "cell_type": "code",
   "execution_count": 34,
   "metadata": {},
   "outputs": [
    {
     "data": {
      "text/plain": [
       "[58, 8]"
      ]
     },
     "execution_count": 34,
     "metadata": {},
     "output_type": "execute_result"
    }
   ],
   "source": [
    "MLESolve(14, 12, 100)"
   ]
  },
  {
   "cell_type": "markdown",
   "metadata": {},
   "source": [
    "# 3. Modular Exponentiation"
   ]
  },
  {
   "cell_type": "code",
   "execution_count": 245,
   "metadata": {},
   "outputs": [],
   "source": [
    "def ModularExp(a, b, n):\n",
    "    #a^b (mod n)\n",
    "    bin_num = b if type(b) == str else bin(b)[2:]\n",
    "    d = 1\n",
    "    for i in bin_num:\n",
    "        d = (d * d) % n\n",
    "        if int(i):\n",
    "            d = (d * a) % n\n",
    "    return d"
   ]
  },
  {
   "cell_type": "code",
   "execution_count": 74,
   "metadata": {},
   "outputs": [
    {
     "data": {
      "text/plain": [
       "44"
      ]
     },
     "execution_count": 74,
     "metadata": {},
     "output_type": "execute_result"
    }
   ],
   "source": [
    "ModularExp(2, 78, 250)"
   ]
  },
  {
   "cell_type": "markdown",
   "metadata": {},
   "source": [
    "# 4. Prime Numbers Generator"
   ]
  },
  {
   "cell_type": "code",
   "execution_count": 594,
   "metadata": {},
   "outputs": [],
   "source": [
    "class PrimeGenerator:\n",
    "    \n",
    "    def __init__(self, prime_length = 128):\n",
    "        self.prime_length = prime_length\n",
    "    \n",
    "    @staticmethod\n",
    "    def Witness(a, n):\n",
    "        # n - 1 = 2^t * u, where u - odd\n",
    "        bin_num = bin(int(n, 2) - 1)[2:] if type(n) == str else bin(n - 1)[2:]\n",
    "        num = int(n, 2) if type(n) == str else n\n",
    "        \n",
    "        t = 0\n",
    "        for i in range(len(bin_num) - 1, 0, -1):\n",
    "            if bin_num[i] == '0':\n",
    "                t += 1\n",
    "            else:\n",
    "                break\n",
    "        u = bin_num[:-t] if t != 0 else bin_num\n",
    "        \n",
    "        x = [0] * (t + 1)\n",
    "        x[0] = ModularExp(a, u, num)\n",
    "        for i in range(1, t + 1):\n",
    "            x[i] = (x[i - 1] ** 2) % num\n",
    "            if x[i] == 1 and x[i - 1] != 1 and x[i - 1] != num - 1:\n",
    "                return True\n",
    "            \n",
    "        if x[t] != 1:\n",
    "            return True\n",
    "        return False\n",
    "    \n",
    "    @staticmethod\n",
    "    def MillerRabin(n, s = 50):\n",
    "        num = int(n, 2) if type(n) == str else n\n",
    "        for j in range(s):\n",
    "            a = randint(1, num - 1)\n",
    "            if PrimeGenerator.Witness(a, n):\n",
    "                return False\n",
    "        #print('Prime Number')\n",
    "        return True\n",
    "    \n",
    "    def get(self):\n",
    "        bin_num = '1'\n",
    "        for i in range(self.prime_length):\n",
    "            bin_num += f'{randint(0, 1)}'\n",
    "        bin_num += '1'\n",
    "        \n",
    "        i = 2\n",
    "        k = 0\n",
    "        while True:\n",
    "            if PrimeGenerator.MillerRabin(bin_num, s = 50):\n",
    "                #print(f'{k} iterations to get a prime')\n",
    "                return bin_num\n",
    "            else:\n",
    "                k += 1\n",
    "                print(k)\n",
    "                clear_output(wait = False)\n",
    "                bin_num = bin(int(bin_num, 2) + i)[2:]"
   ]
  },
  {
   "cell_type": "code",
   "execution_count": 590,
   "metadata": {},
   "outputs": [],
   "source": [
    "g = PrimeGenerator(prime_length = 1024)"
   ]
  },
  {
   "cell_type": "code",
   "execution_count": 591,
   "metadata": {},
   "outputs": [
    {
     "name": "stdout",
     "output_type": "stream",
     "text": [
      "19 iterations to get a prime\n"
     ]
    },
    {
     "data": {
      "text/plain": [
       "'110100101011101110100110000100011010011011101100101001001001010111110000100011111100011101000100000100110011001011110100111001001100101001111000100001100011101010000100101001110001110011001100001110011010000001001010100111101010111000010000000001101010111000111110100100111010011111001101001100100001010100110011011010001101110000111100100100101111011110011001110110110001010011011010000011111011011110011100011011001100101100000111011110001100101110011101001101100110010000000110000000111110111000110100010010100010011110110101011010010111000111011101000111100110101111111010001011010010101100000111010001001000100101111110001100111100100101010100101111011010110000100000000111010000101001011100101010011100010010101001111111110010001010110010100101100000111110100000101010101000011100100100011100000001001000111010100001001000111110111101011100011000100111111100111100111111110010101110110010100000110100100101100010100001111101110011001110010101001100000001011110010010010100101001110011101111101110000111100011100101110111'"
      ]
     },
     "execution_count": 591,
     "metadata": {},
     "output_type": "execute_result"
    }
   ],
   "source": [
    "p = g.get()\n",
    "p"
   ]
  },
  {
   "cell_type": "markdown",
   "metadata": {},
   "source": [
    "# 5. RSA"
   ]
  },
  {
   "cell_type": "code",
   "execution_count": 828,
   "metadata": {},
   "outputs": [],
   "source": [
    "class RSA:\n",
    "    \n",
    "    def __init__(self, prime_length = 32):\n",
    "        self.prime_length = prime_length\n",
    "    \n",
    "    def KeyGen(self):\n",
    "        g = PrimeGenerator(self.prime_length)\n",
    "        p = int(g.get(), 2)\n",
    "        q = int(g.get(), 2)\n",
    "        n = p * q\n",
    "        phi_n = n - q - p + 1\n",
    "        \n",
    "        e1 = randint(4, 9)\n",
    "        while True:\n",
    "            e2 = randint(1, 9)\n",
    "            if e2 % 2 == 1:\n",
    "                break\n",
    "                \n",
    "        e = int(f'{e1}' + f'{e2}')\n",
    "        while True:\n",
    "            Divisor, d, _ = ExGCD(e, phi_n)\n",
    "            if Divisor == 1:\n",
    "                break\n",
    "            else:\n",
    "                e += 2\n",
    "        public = (e, n)\n",
    "        secret = (MLESolve(e, 1, phi_n)[0], n)\n",
    "        \n",
    "        print('Your KEYS are generated successfully!')\n",
    "        return public, secret\n",
    "    \n",
    "    @staticmethod\n",
    "    def P(M, public):\n",
    "        e, n = public\n",
    "        return ModularExp(M, e, n)\n",
    "\n",
    "    @staticmethod\n",
    "    def S(C, secret):\n",
    "        d, n = secret\n",
    "        return ModularExp(C, d, n)"
   ]
  },
  {
   "cell_type": "code",
   "execution_count": 829,
   "metadata": {},
   "outputs": [],
   "source": [
    "k = RSA(1024)"
   ]
  },
  {
   "cell_type": "code",
   "execution_count": 830,
   "metadata": {},
   "outputs": [
    {
     "name": "stdout",
     "output_type": "stream",
     "text": [
      "Your KEYS are generated successfully!\n"
     ]
    }
   ],
   "source": [
    "public, secret = k.KeyGen()"
   ]
  },
  {
   "cell_type": "code",
   "execution_count": 839,
   "metadata": {},
   "outputs": [
    {
     "name": "stdout",
     "output_type": "stream",
     "text": [
      "**************\n",
      "public = (43,\n",
      "\n",
      "159014008563569228366249258986454077185326786565479244764730724302162445316255355098815042010357603374884553974007890234075340627039305762622899212381288882369925424429024301847354337030575784556758987166188132314074602821872133157241710824051032574730643903454971409350987935391590388961350792743663181245248652900352689412319593771944128113533026488240447708615276446165468659359517889005847478673511972353630042473808557766594710195147340759417650922394733002600353712117739098482333572254896541937000957651140731396405535804797732925214335695410365200262308384713059520733780354368746830460639052130509756102056157)\n",
      "**************\n",
      "\n",
      "\n",
      "**************\n",
      "secret = (151618008165263682860842316708014352665079029050805791519859527822992099022476036257009691219178179962099225882193569758071836411828175262035787621107740562259696334920697590133523902750083887600630662181714265694815318969692033940625817297350984547998986047480321576357918729094307115056171686104423033280352605471485799488611486491181731182295236945435766779447935173303454055405005467659966771779425726246194570794749979328395695594219357050139949667850110869947136668564122554505476816203435952576509687324640879041005200674916102384830688976067142241963546484142036542990139312107631446306194995318744682952712579,\n",
      "\n",
      "159014008563569228366249258986454077185326786565479244764730724302162445316255355098815042010357603374884553974007890234075340627039305762622899212381288882369925424429024301847354337030575784556758987166188132314074602821872133157241710824051032574730643903454971409350987935391590388961350792743663181245248652900352689412319593771944128113533026488240447708615276446165468659359517889005847478673511972353630042473808557766594710195147340759417650922394733002600353712117739098482333572254896541937000957651140731396405535804797732925214335695410365200262308384713059520733780354368746830460639052130509756102056157)\n",
      "**************\n"
     ]
    }
   ],
   "source": [
    "print('**************')\n",
    "print(f'public = ({public[0]},')\n",
    "print()\n",
    "print(f'{public[1]})')\n",
    "print('**************')\n",
    "print()\n",
    "print()\n",
    "print('**************')\n",
    "print(f'secret = ({secret[0]},')\n",
    "print()\n",
    "print(f'{secret[1]})')\n",
    "print('**************')"
   ]
  },
  {
   "cell_type": "code",
   "execution_count": 819,
   "metadata": {},
   "outputs": [
    {
     "name": "stdout",
     "output_type": "stream",
     "text": [
      "Ваше сообщение: прив мирк\n"
     ]
    }
   ],
   "source": [
    "M = [ord(m) for m in input('Ваше сообщение: ')]"
   ]
  },
  {
   "cell_type": "code",
   "execution_count": 840,
   "metadata": {},
   "outputs": [],
   "source": [
    "C = [k.P(c, public) for c in M]"
   ]
  },
  {
   "cell_type": "code",
   "execution_count": 821,
   "metadata": {},
   "outputs": [],
   "source": [
    "M_dec = [k.S(c, secret) for c in C]"
   ]
  },
  {
   "cell_type": "code",
   "execution_count": 822,
   "metadata": {},
   "outputs": [
    {
     "name": "stdout",
     "output_type": "stream",
     "text": [
      "прив мирк\n"
     ]
    }
   ],
   "source": [
    "m = ''\n",
    "for c in M_dec:\n",
    "    m += chr(c)\n",
    "print(m)"
   ]
  }
 ],
 "metadata": {
  "kernelspec": {
   "display_name": "Python 3",
   "language": "python",
   "name": "python3"
  },
  "language_info": {
   "codemirror_mode": {
    "name": "ipython",
    "version": 3
   },
   "file_extension": ".py",
   "mimetype": "text/x-python",
   "name": "python",
   "nbconvert_exporter": "python",
   "pygments_lexer": "ipython3",
   "version": "3.7.0"
  }
 },
 "nbformat": 4,
 "nbformat_minor": 2
}
