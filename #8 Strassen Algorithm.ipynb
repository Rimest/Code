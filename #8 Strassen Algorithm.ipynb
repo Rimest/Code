{
 "cells": [
  {
   "cell_type": "code",
   "execution_count": 1,
   "metadata": {},
   "outputs": [],
   "source": [
    "from random import randint\n",
    "import matplotlib.pyplot as plt\n",
    "import time\n",
    "import math as mth\n",
    "import numpy as np"
   ]
  },
  {
   "cell_type": "code",
   "execution_count": 2,
   "metadata": {},
   "outputs": [],
   "source": [
    "def Strassen_Algorithm(a, b):\n",
    "    \n",
    "    a = np.array(a)\n",
    "    b = np.array(b) \n",
    "    \n",
    "    n = len(a)\n",
    "    if n == 1:\n",
    "        return a[0] * b[0]\n",
    "    else:\n",
    "        k = n // 2\n",
    "        a11 = a[: k, : k]\n",
    "        a12 = a[: k, k :]\n",
    "        a21 = a[k :, : k]\n",
    "        a22 = a[k :, k :]\n",
    "        b11 = b[: k, : k]\n",
    "        b12 = b[: k, k :]\n",
    "        b21 = b[k :, : k]\n",
    "        b22 = b[k :, k :]\n",
    "        \n",
    "        s1 = b12 - b22\n",
    "        s2 = a11 + a12\n",
    "        s3 = a21 + a22\n",
    "        s4 = b21 - b11\n",
    "        s5 = a11 + a22\n",
    "        s6 = b11 + b22\n",
    "        s7 = a12 - a22\n",
    "        s8 = b21 + b22\n",
    "        s9 = a11 - a21\n",
    "        s10 = b11 + b12\n",
    "        \n",
    "        p1 = Strassen_Algorithm(a11, s1)\n",
    "        p2 = Strassen_Algorithm(s2, b22)\n",
    "        p3 = Strassen_Algorithm(s3, b11)\n",
    "        p4 = Strassen_Algorithm(a22, s4)\n",
    "        p5 = Strassen_Algorithm(s5, s6)\n",
    "        p6 = Strassen_Algorithm(s7, s8)\n",
    "        p7 = Strassen_Algorithm(s9, s10)\n",
    "        \n",
    "        c11 = p5 + p4 - p2 + p6\n",
    "        c12 = p1 + p2\n",
    "        c21 = p3 + p4\n",
    "        c22 = p5 + p1 - p3 - p7\n",
    "        \n",
    "        c = np.zeros((n, n))\n",
    "        c[: k, : k] = c11\n",
    "        c[: k, k :] = c12\n",
    "        c[k :, : k] = c21\n",
    "        c[k :, k :] = c22\n",
    "        \n",
    "        return c"
   ]
  },
  {
   "cell_type": "code",
   "execution_count": 3,
   "metadata": {},
   "outputs": [],
   "source": [
    "def Strassen_Algorithm_Modified(a, b):\n",
    "    \n",
    "    row_a = len(a)\n",
    "    col_a = len(a[0])\n",
    "    \n",
    "    row_b = len(b)\n",
    "    col_b = len(b[0])\n",
    "    \n",
    "    if col_a != row_b:\n",
    "        return 'Wrong!!! Columns number of A is\\'t equal rows number of B'\n",
    "    \n",
    "    num = max(row_a, col_a, col_b)\n",
    "    \n",
    "    n = 2 ** mth.ceil(mth.log(num, 2)) #Closest to maximum of A - rows, A - columns or B - columns number power of two\n",
    "    \n",
    "    if int(str(mth.log(row_a, 2)).split('.')[1]) != 0 or row_a != num:\n",
    "        a1 = [[0] * n] * (n - row_a)\n",
    "        a.extend(a1)\n",
    "            \n",
    "    if int(str(mth.log(col_a, 2)).split('.')[1]) != 0 or col_a != num:\n",
    "        a2 = [0] * (n - col_a)\n",
    "        b1 = [[0] * n] * (n - row_b)\n",
    "        b.extend(b1)\n",
    "        \n",
    "        for i in range(row_a):\n",
    "            a[i].extend(a2)\n",
    "        \n",
    "    if int(str(mth.log(col_b, 2)).split('.')[1]) != 0 or col_b != num:\n",
    "        b2 = [0] * (n - col_b)\n",
    "        \n",
    "        for i in range(row_b):\n",
    "            b[i].extend(b2)\n",
    "            \n",
    "    #for i in range(len(a)):\n",
    "    #    print(a[i])\n",
    "        \n",
    "    #print('\\n')\n",
    "    #for i in range(len(b)):\n",
    "    #    print(b[i])\n",
    "        \n",
    "    return Strassen_Algorithm(a, b)"
   ]
  },
  {
   "cell_type": "code",
   "execution_count": 4,
   "metadata": {},
   "outputs": [],
   "source": [
    "def Matrix_Multiply(a, b):\n",
    "    \n",
    "    row_a = len(a)\n",
    "    col_a = len(a[0])\n",
    "    \n",
    "    row_b = len(b)\n",
    "    col_b = len(b[0])\n",
    "    \n",
    "    if col_a != row_b:\n",
    "        return 'Wrong!!! Columns number of A is\\'t equal rows number of B'\n",
    "    \n",
    "    c = np.zeros((row_a, col_b))\n",
    "    for i in range(row_a):\n",
    "        for j in range(col_b):\n",
    "            for k in range(col_a):\n",
    "                c[i][j] += a[i][k] * b[k][j]    \n",
    "    return c"
   ]
  },
  {
   "cell_type": "code",
   "execution_count": 5,
   "metadata": {},
   "outputs": [],
   "source": [
    "a = [[1, 2], [2, 4], [5, 6], [4, 3]]\n",
    "b = [[1, 2, 9, 2], [2, 4, 1, 1]]"
   ]
  },
  {
   "cell_type": "code",
   "execution_count": 6,
   "metadata": {},
   "outputs": [
    {
     "name": "stdout",
     "output_type": "stream",
     "text": [
      "[1, 2]\n",
      "[2, 4]\n",
      "[5, 6]\n",
      "[4, 3]\n",
      "\n",
      "\n",
      "[1, 2, 9, 2]\n",
      "[2, 4, 1, 1]\n"
     ]
    }
   ],
   "source": [
    "for i in range(len(a)):\n",
    "    print(a[i])\n",
    "        \n",
    "print('\\n')\n",
    "for i in range(len(b)):\n",
    "    print(b[i])"
   ]
  },
  {
   "cell_type": "code",
   "execution_count": null,
   "metadata": {},
   "outputs": [],
   "source": []
  },
  {
   "cell_type": "code",
   "execution_count": 7,
   "metadata": {},
   "outputs": [
    {
     "name": "stdout",
     "output_type": "stream",
     "text": [
      "--- 16.037091732025146 seconds ---\n"
     ]
    }
   ],
   "source": [
    "N = 7\n",
    "t1 = []\n",
    "t2 = []\n",
    "t3 = []\n",
    "tt = time.time()\n",
    "for n in [2 ** i for i in range(1, N + 1)]:\n",
    "    \n",
    "    array = np.zeros((n, n))\n",
    "    start_time = time.time()\n",
    "    np.matmul(array, array)\n",
    "    time_1 = time.time() - start_time\n",
    "    \n",
    "    start_time = time.time()\n",
    "    Matrix_Multiply(array, array)\n",
    "    time_2 = time.time() - start_time\n",
    "    \n",
    "    start_time = time.time()\n",
    "    Strassen_Algorithm(array, array)\n",
    "    time_3 = time.time() - start_time\n",
    "    \n",
    "    t1.append(time_1)\n",
    "    t2.append(time_2)\n",
    "    t3.append(time_3)\n",
    "\n",
    "print(\"--- %s seconds ---\" % (time.time() - tt))"
   ]
  },
  {
   "cell_type": "code",
   "execution_count": 8,
   "metadata": {},
   "outputs": [
    {
     "data": {
      "image/png": "[encoded data removed]",
      "text/plain": [
       "<Figure size 640x480 with 1 Axes>"
      ]
     },
     "metadata": {
      "needs_background": "light"
     },
     "output_type": "display_data"
    }
   ],
   "source": [
    "plt.figure(num=None, figsize = (8, 6), dpi = 80)\n",
    "\n",
    "p1 = plt.plot([2 ** i for i in range(1, N + 1)], t1)\n",
    "p2 = plt.plot([2 ** i for i in range(1, N + 1)], t2)\n",
    "p3 = plt.plot([2 ** i for i in range(1, N + 1)], t3)\n",
    "\n",
    "plt.title('Find Max Subarray Algorithms', fontsize = 15)\n",
    "plt.xlabel('Length of array', fontsize = 15)\n",
    "plt.ylabel('Time, s', fontsize = 15)\n",
    "\n",
    "plt.grid()\n",
    "plt.legend((p1[0], p2[0], p3[0]),('matmul', 'Matrix_Multiply', 'Strassen_Algorithm'), fontsize = 15)\n",
    "plt.show()"
   ]
  },
  {
   "cell_type": "code",
   "execution_count": 9,
   "metadata": {},
   "outputs": [
    {
     "data": {
      "text/plain": [
       "[2, 4, 8, 16, 32, 64, 128]"
      ]
     },
     "execution_count": 9,
     "metadata": {},
     "output_type": "execute_result"
    }
   ],
   "source": [
    "[2 ** i for i in range(1, N + 1)]"
   ]
  },
  {
   "cell_type": "code",
   "execution_count": null,
   "metadata": {},
   "outputs": [],
   "source": []
  }
 ],
 "metadata": {
  "kernelspec": {
   "display_name": "Python 3",
   "language": "python",
   "name": "python3"
  },
  "language_info": {
   "codemirror_mode": {
    "name": "ipython",
    "version": 3
   },
   "file_extension": ".py",
   "mimetype": "text/x-python",
   "name": "python",
   "nbconvert_exporter": "python",
   "pygments_lexer": "ipython3",
   "version": "3.7.0"
  }
 },
 "nbformat": 4,
 "nbformat_minor": 2
}
